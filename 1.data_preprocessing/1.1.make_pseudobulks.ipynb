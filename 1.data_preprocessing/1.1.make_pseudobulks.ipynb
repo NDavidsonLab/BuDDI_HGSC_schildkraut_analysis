{
 "cells": [
  {
   "cell_type": "markdown",
   "metadata": {},
   "source": [
    "# This notebook makes the Pseudobulks from processed single-cell data and formats relevant metadata\n",
    "\n",
    "Data format requirements for single-cell data:\n",
    "- processed data is not scaled\n",
    "- cells are filtered such that low-quality cells are removed (for example: filter out cells with less than 200 genes and genes expressed in less than 3 cells, and > 5% MT reads)\n",
    "- data is saved as an AnnData object and you have sample IDs, gene IDs, and cell-type labels\n",
    "\n",
    "The end product of this notebook will include the following `.pkl` files per each sample, stimulation and datasplit combination:\n",
    "- Pseudobulk gene expression (`*_pseudo_splits.pkl`) and proportions (`*_prop_splits.pkl`) from random cell type mixture and single cell type dominant mixture\n",
    "- Metadata (`*_meta_splits.pkl`) with the following fields\n",
    "  - the observations have columns named: \"sample_id\", \"stim\", \"isTraining\"\n",
    "  - sample_id: unique IDs for the samples\n",
    "  - stim: is \"STIM\" or \"CTRL\", denotes if the sample is \"female\" or \"male\"\n",
    "  - isTraining: 'Train' or 'Test',  denotes whether the sample is used during training or not."
   ]
  },
  {
   "cell_type": "code",
   "execution_count": 1,
   "metadata": {},
   "outputs": [],
   "source": [
    "import random\n",
    "import sys\n",
    "import pathlib\n",
    "import yaml\n",
    "import subprocess\n",
    "import pickle\n",
    "\n",
    "import pandas as pd\n",
    "import numpy as np\n",
    "import scanpy as sc\n",
    "import anndata as ad\n",
    "import matplotlib.pyplot as plt\n",
    "import seaborn as sns\n",
    "from sklearn.model_selection import train_test_split\n",
    "from scipy.stats import median_abs_deviation"
   ]
  },
  {
   "cell_type": "markdown",
   "metadata": {},
   "source": [
    "## Preprocessing Parameters"
   ]
  },
  {
   "cell_type": "code",
   "execution_count": 2,
   "metadata": {},
   "outputs": [],
   "source": [
    "CELL_TYPE_COL = 'encode_celltype'\n",
    "SAMPLE_ID_COL = 'sample_id'\n",
    "STIM_COL = 'stim'\n",
    "\n",
    "GENE_ID_COL = 'gene_ids'\n",
    "\n",
    "DATASPLIT_COL = 'isTraining'\n",
    "\n",
    "DATASPLIT_SEED = 42\n",
    "TEST_SIZE = 0.2"
   ]
  },
  {
   "cell_type": "markdown",
   "metadata": {},
   "source": [
    "## Load config\n",
    "The config file specifies the path to data and software repo (due to currently in active development)"
   ]
  },
  {
   "cell_type": "code",
   "execution_count": 3,
   "metadata": {},
   "outputs": [],
   "source": [
    "# Get the root directory of the analysis repository\n",
    "REPO_ROOT = subprocess.run(\n",
    "    [\"git\", \"rev-parse\", \"--show-toplevel\"], capture_output=True, text=True\n",
    ").stdout.strip()\n",
    "REPO_ROOT = pathlib.Path(REPO_ROOT)\n",
    "\n",
    "CONFIG_FILE = REPO_ROOT / 'config.yml'\n",
    "assert CONFIG_FILE.exists(), f\"Config file not found at {CONFIG_FILE}\"\n",
    "\n",
    "with open(CONFIG_FILE, 'r') as file:\n",
    "    config_dict = yaml.safe_load(file)"
   ]
  },
  {
   "cell_type": "markdown",
   "metadata": {},
   "source": [
    "## Add dev buddi fork to path and import"
   ]
  },
  {
   "cell_type": "code",
   "execution_count": 4,
   "metadata": {},
   "outputs": [
    {
     "name": "stderr",
     "output_type": "stream",
     "text": [
      "2025-05-01 11:24:24.226479: I tensorflow/core/util/port.cc:153] oneDNN custom operations are on. You may see slightly different numerical results due to floating-point round-off errors from different computation orders. To turn them off, set the environment variable `TF_ENABLE_ONEDNN_OPTS=0`.\n",
      "2025-05-01 11:24:24.235432: E external/local_xla/xla/stream_executor/cuda/cuda_fft.cc:467] Unable to register cuFFT factory: Attempting to register factory for plugin cuFFT when one has already been registered\n",
      "WARNING: All log messages before absl::InitializeLog() is called are written to STDERR\n",
      "E0000 00:00:1746120264.244700 1479390 cuda_dnn.cc:8579] Unable to register cuDNN factory: Attempting to register factory for plugin cuDNN when one has already been registered\n",
      "E0000 00:00:1746120264.247640 1479390 cuda_blas.cc:1407] Unable to register cuBLAS factory: Attempting to register factory for plugin cuBLAS when one has already been registered\n",
      "W0000 00:00:1746120264.256003 1479390 computation_placer.cc:177] computation placer already registered. Please check linkage and avoid linking the same target more than once.\n",
      "W0000 00:00:1746120264.256013 1479390 computation_placer.cc:177] computation placer already registered. Please check linkage and avoid linking the same target more than once.\n",
      "W0000 00:00:1746120264.256014 1479390 computation_placer.cc:177] computation placer already registered. Please check linkage and avoid linking the same target more than once.\n",
      "W0000 00:00:1746120264.256015 1479390 computation_placer.cc:177] computation placer already registered. Please check linkage and avoid linking the same target more than once.\n",
      "2025-05-01 11:24:24.258695: I tensorflow/core/platform/cpu_feature_guard.cc:210] This TensorFlow binary is optimized to use available CPU instructions in performance-critical operations.\n",
      "To enable the following instructions: AVX2 AVX512F AVX512_VNNI AVX512_BF16 FMA, in other operations, rebuild TensorFlow with the appropriate compiler flags.\n"
     ]
    }
   ],
   "source": [
    "buddi_fork_path = config_dict['software_path']['buddi_v2']\n",
    "buddi_fork_path = pathlib.Path(buddi_fork_path)\n",
    "assert buddi_fork_path.exists(), f\"buddi fork not found at {buddi_fork_path}\"\n",
    "\n",
    "sys.path.insert(0, str(buddi_fork_path))\n",
    "# this is quite ugly, once activate modifications are done this will be changed\n",
    "# to a proper installation + import\n",
    "from buddi_v2.preprocessing.sc_augmentor import SCAugmentor, load_sc_augmentation_dir\n",
    "from buddi_v2.plotting.plot_data import plot_data"
   ]
  },
  {
   "cell_type": "markdown",
   "metadata": {},
   "source": [
    "## Retrieve Path to Processed Single-Cell RNA-seq Data and relevant Metadata"
   ]
  },
  {
   "cell_type": "code",
   "execution_count": 5,
   "metadata": {},
   "outputs": [],
   "source": [
    "STUDY_GEO_ID = 'GSE154600' # TODO consider whether to move this into config.yml as well\n",
    "SC_DATA_PATH = pathlib.Path(config_dict['data_path']['sc_data_path'])\n",
    "\n",
    "SC_ADATA_PATH = SC_DATA_PATH / f'{STUDY_GEO_ID}_processed'\n",
    "assert SC_ADATA_PATH.exists(), f\"Processed Single-cell Data path {SC_ADATA_PATH} does not exist\"\n",
    "SC_ADATA_FILE = SC_ADATA_PATH / f'{STUDY_GEO_ID}_processed.h5ad'\n",
    "assert SC_ADATA_FILE.exists(), f\"Processed Single-cell Data file {SC_ADATA_FILE} does not exist\"\n",
    "\n",
    "SC_METADATA_PATH = SC_DATA_PATH / f'{STUDY_GEO_ID}_metadata'\n",
    "assert SC_METADATA_PATH.exists(), f\"Single-cell Metadata path {SC_METADATA_PATH} does not exist\""
   ]
  },
  {
   "cell_type": "markdown",
   "metadata": {},
   "source": [
    "## Define Path to write Pre-Processing Outputs"
   ]
  },
  {
   "cell_type": "code",
   "execution_count": 6,
   "metadata": {},
   "outputs": [],
   "source": [
    "PREPROCESSING_OUTPUT_PATH = REPO_ROOT / 'processed_data'\n",
    "assert PREPROCESSING_OUTPUT_PATH.exists(), f\"Preprocessing output path {PREPROCESSING_OUTPUT_PATH} does not exist\"\n",
    "SC_AUGMENTED_DATA_PATH = PREPROCESSING_OUTPUT_PATH / 'sc_augmented'\n",
    "SC_AUGMENTED_DATA_PATH.mkdir(exist_ok=True, parents=True)"
   ]
  },
  {
   "cell_type": "markdown",
   "metadata": {},
   "source": [
    "## Preprocessing of scRNA-seq Anndata before Moving to Pseudobulk\n",
    "### Load and Preprocess Anndata"
   ]
  },
  {
   "cell_type": "code",
   "execution_count": 7,
   "metadata": {},
   "outputs": [],
   "source": [
    "adata = sc.read_h5ad(SC_ADATA_FILE)\n",
    "\n",
    "# checking if the defined columns are present in the adata.obs\n",
    "assert CELL_TYPE_COL in adata.obs.columns, f\"Column {CELL_TYPE_COL} not found in adata.obs\"\n",
    "assert SAMPLE_ID_COL in adata.obs.columns, f\"Column {SAMPLE_ID_COL} not found in adata.obs\"\n",
    "assert STIM_COL in adata.obs.columns, f\"Column {STIM_COL} not found in adata.obs\""
   ]
  },
  {
   "cell_type": "code",
   "execution_count": 8,
   "metadata": {},
   "outputs": [],
   "source": [
    "adata.var_names_make_unique()\n",
    "adata.var[GENE_ID_COL] = adata.var.index.tolist()\n",
    "\n",
    "# replace underscores with hyphens in the sample_id column\n",
    "adata.obs[SAMPLE_ID_COL] = adata.obs[SAMPLE_ID_COL].str.replace('_', '-')\n",
    "adata.obs[STIM_COL] = 'white' # Assume this deidentified sc dataset is all white individual"
   ]
  },
  {
   "cell_type": "markdown",
   "metadata": {},
   "source": [
    "### Cell Type Stats"
   ]
  },
  {
   "cell_type": "code",
   "execution_count": 9,
   "metadata": {},
   "outputs": [
    {
     "name": "stdout",
     "output_type": "stream",
     "text": [
      "sample_id          Samp-T59  Samp-T76  Samp-T77  Samp-T89  Samp-T90\n",
      "encode_celltype                                                    \n",
      "Adipocytes              925      2627       241       120        42\n",
      "B-cells                 154        67       286       476       186\n",
      "CD4+ T-cells            555       117       190       269       345\n",
      "CD8+ T-cells           1542      2406      1452      1430      1353\n",
      "Endothelial cells        73       318        31        87        30\n",
      "Epithelial cells       2587        49       434       222       729\n",
      "Fibroblasts             373      3522        37       284       169\n",
      "Macrophages            2321       617       444       456       141\n",
      "Mesangial cells        1175       606      1651        13        43\n",
      "Monocytes              1606       929        88       729       155\n",
      "NK cells                378       618       120       205        88\n"
     ]
    },
    {
     "name": "stderr",
     "output_type": "stream",
     "text": [
      "/tmp/ipykernel_1479390/1808085958.py:10: FutureWarning: The default of observed=False is deprecated and will be changed to True in a future version of pandas. Pass observed=False to retain current behavior or observed=True to adopt the future default and silence this warning.\n",
      "  count_df = adata.obs.groupby([SAMPLE_ID_COL, CELL_TYPE_COL]).size().reset_index(name='count')\n"
     ]
    },
    {
     "data": {
      "image/png": "[encoded data removed]",
      "text/plain": [
       "<Figure size 1200x600 with 1 Axes>"
      ]
     },
     "metadata": {},
     "output_type": "display_data"
    }
   ],
   "source": [
    "ct = pd.crosstab(adata.obs[CELL_TYPE_COL], adata.obs[SAMPLE_ID_COL])\n",
    "with pd.option_context(\n",
    "    'display.max_rows', None,\n",
    "    'display.max_columns', None,\n",
    "    'display.width', None,\n",
    "    'display.max_colwidth', None\n",
    "):\n",
    "    print(ct)\n",
    "\n",
    "count_df = adata.obs.groupby([SAMPLE_ID_COL, CELL_TYPE_COL]).size().reset_index(name='count')\n",
    "pivot_df = count_df.pivot(index=SAMPLE_ID_COL, columns=CELL_TYPE_COL, values='count').fillna(0)\n",
    "pivot_df = pivot_df.div(pivot_df.sum(axis=1), axis=0)\n",
    "\n",
    "fig, ax = plt.subplots(figsize=(12, 6))\n",
    "pivot_df.plot(kind='bar', stacked=True, figsize=(12, 6), colormap='tab20', ax=ax)\n",
    "\n",
    "plt.xlabel('Sample')\n",
    "plt.ylabel('Cell Count')\n",
    "plt.title('Cell Type Composition per Sample')\n",
    "plt.legend(title='Cell Type', bbox_to_anchor=(1.05, 1), loc='upper left')\n",
    "plt.tight_layout()\n",
    "plt.show()"
   ]
  },
  {
   "cell_type": "markdown",
   "metadata": {},
   "source": [
    "### Stim Stats"
   ]
  },
  {
   "cell_type": "code",
   "execution_count": 10,
   "metadata": {},
   "outputs": [
    {
     "name": "stdout",
     "output_type": "stream",
     "text": [
      "stim       white\n",
      "sample_id       \n",
      "Samp-T59   11689\n",
      "Samp-T76   11876\n",
      "Samp-T77    4974\n",
      "Samp-T89    4291\n",
      "Samp-T90    3281\n"
     ]
    }
   ],
   "source": [
    "ct = pd.crosstab(adata.obs[SAMPLE_ID_COL], adata.obs[STIM_COL])\n",
    "with pd.option_context(\n",
    "    'display.max_rows', None,\n",
    "    'display.max_columns', None,\n",
    "    'display.width', None,\n",
    "    'display.max_colwidth', None\n",
    "):\n",
    "    print(ct)"
   ]
  },
  {
   "cell_type": "markdown",
   "metadata": {},
   "source": [
    "### Perform train test split holding out samples completely"
   ]
  },
  {
   "cell_type": "code",
   "execution_count": 11,
   "metadata": {},
   "outputs": [
    {
     "name": "stdout",
     "output_type": "stream",
     "text": [
      "All unique sample IDs: ['Samp-T59' 'Samp-T76' 'Samp-T77' 'Samp-T89' 'Samp-T90']\n",
      "Test sample ID(s) selected for hold-out as test dataset: ['Samp-T59']\n",
      "\n",
      "\n",
      "Data Split Sanity Check Tabulation\n",
      "isTraining   Test  Train\n",
      "sample_id               \n",
      "Samp-T59    11689      0\n",
      "Samp-T76        0  11876\n",
      "Samp-T77        0   4974\n",
      "Samp-T89        0   4291\n",
      "Samp-T90        0   3281\n"
     ]
    }
   ],
   "source": [
    "unique_sample_ids = adata.obs[SAMPLE_ID_COL].unique()\n",
    "print(f\"All unique sample IDs: {unique_sample_ids}\")\n",
    "\n",
    "random.seed(DATASPLIT_SEED)\n",
    "\n",
    "n_test_samples = int(np.ceil(len(unique_sample_ids) * TEST_SIZE))\n",
    "test_sample_ids = random.sample(list(unique_sample_ids), n_test_samples)\n",
    "print(f\"Test sample ID(s) selected for hold-out as test dataset: {test_sample_ids}\")\n",
    "\n",
    "test_idx = np.where(adata.obs[SAMPLE_ID_COL].isin(test_sample_ids))[0]\n",
    "test_idx = adata.obs.index[test_idx]\n",
    "adata.obs.loc[:, DATASPLIT_COL] = 'Train'\n",
    "adata.obs.loc[test_idx, DATASPLIT_COL] = 'Test'\n",
    "\n",
    "print(\"\\n\\nData Split Sanity Check Tabulation\")\n",
    "contingency_table = pd.crosstab(adata.obs[SAMPLE_ID_COL], adata.obs[DATASPLIT_COL])\n",
    "with pd.option_context(\n",
    "    'display.max_rows', None,\n",
    "    'display.max_columns', None,\n",
    "    'display.width', None,\n",
    "    'display.max_colwidth', None\n",
    "):\n",
    "    print(contingency_table)"
   ]
  },
  {
   "cell_type": "markdown",
   "metadata": {},
   "source": [
    "## Make Pseudobulks"
   ]
  },
  {
   "cell_type": "code",
   "execution_count": 12,
   "metadata": {},
   "outputs": [
    {
     "name": "stdout",
     "output_type": "stream",
     "text": [
      "-----------------------------------------------\n",
      "PseudoBulkAugmentor initialised with:\n",
      "  #Samples : 5\n",
      "  #Stims   : 1\n",
      "  #Splits  : 2\n",
      "  #Cell types : 11\n",
      "\n",
      "Contingency table (sample × split):\n",
      "isTraining   Test  Train\n",
      "sample_id               \n",
      "Samp-T59    11689      0\n",
      "Samp-T76        0  11876\n",
      "Samp-T77        0   4974\n",
      "Samp-T89        0   4291\n",
      "Samp-T90        0   3281\n",
      "-----------------------------------------------\n",
      "\n"
     ]
    }
   ],
   "source": [
    "augmentor = SCAugmentor(\n",
    "    adata=adata,\n",
    "    sample_col=SAMPLE_ID_COL,\n",
    "    split_col=DATASPLIT_COL,\n",
    "    celltype_col=CELL_TYPE_COL,\n",
    "    gene_id_col=GENE_ID_COL,\n",
    ")"
   ]
  },
  {
   "cell_type": "code",
   "execution_count": 13,
   "metadata": {},
   "outputs": [
    {
     "name": "stdout",
     "output_type": "stream",
     "text": [
      "Random  : {'n_bulks': 1000, 'n_cells': 5000, 'mean': 5.0, 'variance_range': (1.0, 3.0)}\n",
      "Realistic: {'n_bulks': 0, 'n_cells': 5000, 'min_corr': 0.8}\n",
      "Single  : {'n_bulks': 100, 'n_cells': 5000, 'background_prop': 0.01}\n",
      "Noise   : {'cell_noise': [array([1.26821465, 1.11060258, 0.92362622, ..., 0.98140407, 1.08598371,\n",
      "       1.00658762]), array([1.01940133, 0.78219192, 0.99277162, ..., 1.04330572, 1.03747984,\n",
      "       0.98277976]), array([0.90925037, 0.78813345, 0.95267075, ..., 0.9232417 , 1.01575461,\n",
      "       1.08221247]), array([0.99970733, 1.02053415, 0.91141932, ..., 1.03045998, 0.94892122,\n",
      "       1.06957523]), array([1.07578598, 1.02867725, 0.962869  , ..., 1.01771713, 1.1609142 ,\n",
      "       1.08529587]), array([0.8770767 , 1.01895249, 0.92457863, ..., 1.32275298, 1.10006087,\n",
      "       1.09974243]), array([0.90727994, 1.02275868, 0.89172532, ..., 1.22794532, 0.97984711,\n",
      "       1.02827617]), array([0.73706265, 1.18317413, 0.97234048, ..., 1.09071121, 1.05707669,\n",
      "       0.941301  ]), array([0.93743799, 1.07704209, 0.93554289, ..., 1.12910439, 1.04877746,\n",
      "       1.07511396]), array([1.07842066, 0.93587011, 1.14926646, ..., 1.20227768, 0.99600038,\n",
      "       1.0755638 ]), array([1.00268072, 0.99697229, 0.94621148, ..., 0.95683127, 1.19627288,\n",
      "       0.99834802])], 'use_sample_noise': False}\n"
     ]
    }
   ],
   "source": [
    "augmentor.configure_random_pseudobulks(\n",
    "    n_bulks=1_000, # 1, 000 generated per sample\n",
    "    n_cells=5_000, # 5, 000 cells per pseudobulk\n",
    "    mean=5.0, # Mean for log-normal distribution sampling\n",
    "    variance_range=(1.0, 3.0), # Variance range for log-normal distribution sampling\n",
    ")\n",
    "augmentor.configure_realistic_pseudobulks(\n",
    "    n_bulks=0, # No realistic pseudobulks generated\n",
    ")\n",
    "augmentor.configure_singlecell_pseudobulks(\n",
    "    n_bulks=100, # 100 pseudobulks generated per sample per cell type \n",
    "    n_cells=5_000,\n",
    "    background_prop=0.01,\n",
    ")\n",
    "\n",
    "augmentor.configure_pseudobulk_noise(\n",
    "    cell_noise=(0, 0.1), # randomly generated noise with log-normal mean 0 and std 0.1\n",
    "    use_sample_noise=False, # Do not use sample noise\n",
    ")\n",
    "\n",
    "print(\"Random  :\", augmentor._random_cfg)\n",
    "print(\"Realistic:\", augmentor._realistic_cfg)\n",
    "print(\"Single  :\", augmentor._single_cfg)\n",
    "print(\"Noise   :\", augmentor._noise_cfg)"
   ]
  },
  {
   "cell_type": "code",
   "execution_count": 14,
   "metadata": {},
   "outputs": [
    {
     "name": "stdout",
     "output_type": "stream",
     "text": [
      "Generating pseudo‑bulk profiles for sample Samp-T59, stim white, split Test …\n",
      "  >Generating random‑prop pseudo‑bulks…\n"
     ]
    },
    {
     "name": "stderr",
     "output_type": "stream",
     "text": [
      "100%|██████████| 1000/1000 [00:24<00:00, 40.63it/s]\n"
     ]
    },
    {
     "name": "stdout",
     "output_type": "stream",
     "text": [
      "  >Generating single‑cell‑dominant pseudo‑bulks…\n"
     ]
    },
    {
     "name": "stderr",
     "output_type": "stream",
     "text": [
      "100%|██████████| 1100/1100 [00:27<00:00, 39.74it/s]\n"
     ]
    },
    {
     "name": "stdout",
     "output_type": "stream",
     "text": [
      "  Done for Samp-T59, white, Test.\n",
      "\n",
      "Generating pseudo‑bulk profiles for sample Samp-T59, stim white, split Train …\n",
      ">No matching cells – skipping.\n",
      "Generating pseudo‑bulk profiles for sample Samp-T76, stim white, split Test …\n",
      ">No matching cells – skipping.\n",
      "Generating pseudo‑bulk profiles for sample Samp-T76, stim white, split Train …\n",
      "  >Generating random‑prop pseudo‑bulks…\n"
     ]
    },
    {
     "name": "stderr",
     "output_type": "stream",
     "text": [
      "100%|██████████| 1000/1000 [00:25<00:00, 39.54it/s]\n"
     ]
    },
    {
     "name": "stdout",
     "output_type": "stream",
     "text": [
      "  >Generating single‑cell‑dominant pseudo‑bulks…\n"
     ]
    },
    {
     "name": "stderr",
     "output_type": "stream",
     "text": [
      "100%|██████████| 1100/1100 [00:27<00:00, 39.72it/s]\n"
     ]
    },
    {
     "name": "stdout",
     "output_type": "stream",
     "text": [
      "  Done for Samp-T76, white, Train.\n",
      "\n",
      "Generating pseudo‑bulk profiles for sample Samp-T77, stim white, split Test …\n",
      ">No matching cells – skipping.\n",
      "Generating pseudo‑bulk profiles for sample Samp-T77, stim white, split Train …\n",
      "  >Generating random‑prop pseudo‑bulks…\n"
     ]
    },
    {
     "name": "stderr",
     "output_type": "stream",
     "text": [
      "100%|██████████| 1000/1000 [00:25<00:00, 39.31it/s]\n"
     ]
    },
    {
     "name": "stdout",
     "output_type": "stream",
     "text": [
      "  >Generating single‑cell‑dominant pseudo‑bulks…\n"
     ]
    },
    {
     "name": "stderr",
     "output_type": "stream",
     "text": [
      "100%|██████████| 1100/1100 [00:28<00:00, 38.66it/s]\n"
     ]
    },
    {
     "name": "stdout",
     "output_type": "stream",
     "text": [
      "  Done for Samp-T77, white, Train.\n",
      "\n",
      "Generating pseudo‑bulk profiles for sample Samp-T89, stim white, split Test …\n",
      ">No matching cells – skipping.\n",
      "Generating pseudo‑bulk profiles for sample Samp-T89, stim white, split Train …\n",
      "  >Generating random‑prop pseudo‑bulks…\n"
     ]
    },
    {
     "name": "stderr",
     "output_type": "stream",
     "text": [
      "100%|██████████| 1000/1000 [00:24<00:00, 40.26it/s]\n"
     ]
    },
    {
     "name": "stdout",
     "output_type": "stream",
     "text": [
      "  >Generating single‑cell‑dominant pseudo‑bulks…\n"
     ]
    },
    {
     "name": "stderr",
     "output_type": "stream",
     "text": [
      "100%|██████████| 1100/1100 [00:28<00:00, 38.84it/s]\n"
     ]
    },
    {
     "name": "stdout",
     "output_type": "stream",
     "text": [
      "  Done for Samp-T89, white, Train.\n",
      "\n",
      "Generating pseudo‑bulk profiles for sample Samp-T90, stim white, split Test …\n",
      ">No matching cells – skipping.\n",
      "Generating pseudo‑bulk profiles for sample Samp-T90, stim white, split Train …\n",
      "  >Generating random‑prop pseudo‑bulks…\n"
     ]
    },
    {
     "name": "stderr",
     "output_type": "stream",
     "text": [
      "100%|██████████| 1000/1000 [00:24<00:00, 40.72it/s]\n"
     ]
    },
    {
     "name": "stdout",
     "output_type": "stream",
     "text": [
      "  >Generating single‑cell‑dominant pseudo‑bulks…\n"
     ]
    },
    {
     "name": "stderr",
     "output_type": "stream",
     "text": [
      "100%|██████████| 1100/1100 [00:27<00:00, 40.17it/s]\n"
     ]
    },
    {
     "name": "stdout",
     "output_type": "stream",
     "text": [
      "  Done for Samp-T90, white, Train.\n",
      "\n"
     ]
    }
   ],
   "source": [
    "augmentor.run(\n",
    "    save_path=SC_AUGMENTED_DATA_PATH,\n",
    "    augmentation_name=f'{STUDY_GEO_ID}_augmented',\n",
    "    seed=42,\n",
    "    overwrite=True,\n",
    ")"
   ]
  }
 ],
 "metadata": {
  "kernelspec": {
   "display_name": "buddi_conda",
   "language": "python",
   "name": "python3"
  },
  "language_info": {
   "codemirror_mode": {
    "name": "ipython",
    "version": 3
   },
   "file_extension": ".py",
   "mimetype": "text/x-python",
   "name": "python",
   "nbconvert_exporter": "python",
   "pygments_lexer": "ipython3",
   "version": "3.9.21"
  }
 },
 "nbformat": 4,
 "nbformat_minor": 2
}
