{
 "cells": [
  {
   "cell_type": "markdown",
   "metadata": {},
   "source": [
    "# This notebook ... TODO"
   ]
  },
  {
   "cell_type": "code",
   "execution_count": 1,
   "metadata": {},
   "outputs": [],
   "source": [
    "import pathlib\n",
    "import yaml\n",
    "import subprocess\n",
    "import pickle\n",
    "\n",
    "import pandas as pd\n",
    "import scanpy as sc\n",
    "import anndata as ad\n"
   ]
  },
  {
   "cell_type": "markdown",
   "metadata": {},
   "source": [
    "## Notebook Parameters"
   ]
  },
  {
   "cell_type": "code",
   "execution_count": 2,
   "metadata": {},
   "outputs": [],
   "source": [
    "# TODO consider whether to move these into config.yml\n",
    "CELL_TYPE_COL = 'cellType'\n",
    "SAMPLE_ID_COL = 'sample_id'\n",
    "STIM_COL = 'stim'"
   ]
  },
  {
   "cell_type": "markdown",
   "metadata": {},
   "source": [
    "## Load config"
   ]
  },
  {
   "cell_type": "code",
   "execution_count": 3,
   "metadata": {},
   "outputs": [],
   "source": [
    "# Get the root directory of the analysis repository\n",
    "REPO_ROOT = subprocess.run(\n",
    "    [\"git\", \"rev-parse\", \"--show-toplevel\"], capture_output=True, text=True\n",
    ").stdout.strip()\n",
    "REPO_ROOT = pathlib.Path(REPO_ROOT)\n",
    "\n",
    "CONFIG_FILE = REPO_ROOT / 'config.yml'\n",
    "assert CONFIG_FILE.exists(), f\"Config file not found at {CONFIG_FILE}\"\n",
    "\n",
    "with open(CONFIG_FILE, 'r') as file:\n",
    "    config_dict = yaml.safe_load(file)"
   ]
  },
  {
   "cell_type": "markdown",
   "metadata": {},
   "source": [
    "## Retrieve Path to Processed Single-Cell RNA-seq Data and relevant Metadata"
   ]
  },
  {
   "cell_type": "code",
   "execution_count": 4,
   "metadata": {},
   "outputs": [],
   "source": [
    "STUDY_GEO_ID = 'GSE154600' # TODO consider whether to move this into config.yml as well\n",
    "SC_DATA_PATH = pathlib.Path(config_dict['data_path']['sc_data_path'])\n",
    "\n",
    "SC_ADATA_PATH = SC_DATA_PATH / f'{STUDY_GEO_ID}_processed'\n",
    "assert SC_ADATA_PATH.exists(), f\"Processed Single-cell Data path {SC_ADATA_PATH} does not exist\"\n",
    "SC_ADATA_FILE = SC_ADATA_PATH / f'{STUDY_GEO_ID}_processed.h5ad'\n",
    "assert SC_ADATA_FILE.exists(), f\"Processed Single-cell Data file {SC_ADATA_FILE} does not exist\"\n",
    "\n",
    "SC_METADATA_PATH = SC_DATA_PATH / f'{STUDY_GEO_ID}_metadata'\n",
    "assert SC_METADATA_PATH.exists(), f\"Single-cell Metadata path {SC_METADATA_PATH} does not exist\""
   ]
  },
  {
   "cell_type": "markdown",
   "metadata": {},
   "source": [
    "## Define Path to write Pre-Processing Outputs"
   ]
  },
  {
   "cell_type": "code",
   "execution_count": 5,
   "metadata": {},
   "outputs": [],
   "source": [
    "PREPROCESSING_OUTPUT_PATH = REPO_ROOT / 'processed_data'\n",
    "assert PREPROCESSING_OUTPUT_PATH.exists(), f\"Preprocessing output path {PREPROCESSING_OUTPUT_PATH} does not exist\"\n",
    "SC_AUGMENTED_DATA_PATH = PREPROCESSING_OUTPUT_PATH / 'sc_augmented'\n",
    "SC_AUGMENTED_DATA_PATH.mkdir(exist_ok=True, parents=True)"
   ]
  },
  {
   "cell_type": "markdown",
   "metadata": {},
   "source": [
    "## Preprocessing of scRNA-seq Anndata before Moving to Pseudobulk"
   ]
  },
  {
   "cell_type": "markdown",
   "metadata": {},
   "source": [
    "### Load and Preprocess Anndata"
   ]
  },
  {
   "cell_type": "code",
   "execution_count": 6,
   "metadata": {},
   "outputs": [],
   "source": [
    "adata = sc.read_h5ad(SC_ADATA_FILE)\n",
    "adata.var_names_make_unique()"
   ]
  },
  {
   "cell_type": "code",
   "execution_count": 7,
   "metadata": {},
   "outputs": [],
   "source": [
    "# checking if the defined columns are present in the adata.obs\n",
    "assert CELL_TYPE_COL in adata.obs.columns, f\"Column {CELL_TYPE_COL} not found in adata.obs\"\n",
    "assert SAMPLE_ID_COL in adata.obs.columns, f\"Column {SAMPLE_ID_COL} not found in adata.obs\"\n",
    "assert STIM_COL in adata.obs.columns, f\"Column {STIM_COL} not found in adata.obs\""
   ]
  },
  {
   "cell_type": "markdown",
   "metadata": {},
   "source": [
    "Print some basic information"
   ]
  },
  {
   "cell_type": "code",
   "execution_count": 8,
   "metadata": {},
   "outputs": [
    {
     "name": "stdout",
     "output_type": "stream",
     "text": [
      "(36111, 24520)\n",
      "              gene_ids  n_cells     mt  n_cells_by_counts  mean_counts  \\\n",
      "gene_ids                                                                 \n",
      "AL627309.1  AL627309.1       23  False                 23     0.000614   \n",
      "AL669831.5  AL669831.5      629  False                629     0.017388   \n",
      "FAM87B          FAM87B       26  False                 26     0.000694   \n",
      "LINC00115    LINC00115      463  False                463     0.012661   \n",
      "FAM41C          FAM41C      279  False                279     0.007746   \n",
      "\n",
      "            pct_dropout_by_counts  total_counts  \n",
      "gene_ids                                         \n",
      "AL627309.1              99.938567          23.0  \n",
      "AL669831.5              98.319934         651.0  \n",
      "FAM87B                  99.930554          26.0  \n",
      "LINC00115               98.763322         474.0  \n",
      "FAM41C                  99.254788         290.0  \n",
      "                           GSM             Barcode  Cluster          cellType  \\\n",
      "AAACCTGAGCTGCCCA-1  GSM4675273  AAACCTGAGCTGCCCA-1        3       Macrophages   \n",
      "AAACCTGCAAGCCCAC-1  GSM4675273  AAACCTGCAAGCCCAC-1        3       Macrophages   \n",
      "AAACCTGCAAGCGCTC-1  GSM4675273  AAACCTGCAAGCGCTC-1        5  Epithelial cells   \n",
      "AAACCTGCACGTAAGG-1  GSM4675273  AAACCTGCACGTAAGG-1        5  Epithelial cells   \n",
      "AAACCTGCACGTGAGA-1  GSM4675273  AAACCTGCACGTGAGA-1        3         Monocytes   \n",
      "\n",
      "                       hpca_celltype   encode_celltype subtype  IMR_consensus  \\\n",
      "AAACCTGAGCTGCCCA-1        Macrophage       Macrophages     DIF          0.322   \n",
      "AAACCTGCAAGCCCAC-1        Macrophage       Macrophages     IMR          0.362   \n",
      "AAACCTGCAAGCGCTC-1  Epithelial_cells  Epithelial cells     DIF          0.228   \n",
      "AAACCTGCACGTAAGG-1  Epithelial_cells  Epithelial cells     DIF          0.176   \n",
      "AAACCTGCACGTGAGA-1        Macrophage         Monocytes     DIF          0.256   \n",
      "\n",
      "                    DIF_consensus  PRO_consensus  ...  celltype_granular  \\\n",
      "AAACCTGAGCTGCCCA-1          0.334          0.158  ...             immune   \n",
      "AAACCTGCAAGCCCAC-1          0.248          0.142  ...             immune   \n",
      "AAACCTGCAAGCGCTC-1          0.346          0.266  ...              tumor   \n",
      "AAACCTGCACGTAAGG-1          0.494          0.258  ...              tumor   \n",
      "AAACCTGCACGTGAGA-1          0.304          0.192  ...             immune   \n",
      "\n",
      "                     scpred_CellType  orig_celltype sample_id  stim n_genes  \\\n",
      "AAACCTGAGCTGCCCA-1       Macrophages            MYE  Samp_T59  CTRL     805   \n",
      "AAACCTGCAAGCCCAC-1       Macrophages            MYE  Samp_T59  CTRL    1044   \n",
      "AAACCTGCAAGCGCTC-1  Epithelial cells            EPI  Samp_T59  CTRL    2608   \n",
      "AAACCTGCACGTAAGG-1  Epithelial cells            EPI  Samp_T59  CTRL    3468   \n",
      "AAACCTGCACGTGAGA-1         Monocytes            MYE  Samp_T59  CTRL    1684   \n",
      "\n",
      "                   n_genes_by_counts  total_counts total_counts_mt  \\\n",
      "AAACCTGAGCTGCCCA-1               805        1580.0            92.0   \n",
      "AAACCTGCAAGCCCAC-1              1044        2177.0            72.0   \n",
      "AAACCTGCAAGCGCTC-1              2608        6224.0           314.0   \n",
      "AAACCTGCACGTAAGG-1              3468        8744.0           182.0   \n",
      "AAACCTGCACGTGAGA-1              1684        4395.0           193.0   \n",
      "\n",
      "                   pct_counts_mt  \n",
      "AAACCTGAGCTGCCCA-1      5.822785  \n",
      "AAACCTGCAAGCCCAC-1      3.307304  \n",
      "AAACCTGCAAGCGCTC-1      5.044987  \n",
      "AAACCTGCACGTAAGG-1      2.081427  \n",
      "AAACCTGCACGTGAGA-1      4.391354  \n",
      "\n",
      "[5 rows x 29 columns]\n"
     ]
    }
   ],
   "source": [
    "print(adata.shape)\n",
    "print(adata.var.head())\n",
    "print(adata.obs.head())"
   ]
  },
  {
   "cell_type": "markdown",
   "metadata": {},
   "source": [
    "## Some Stats"
   ]
  },
  {
   "cell_type": "markdown",
   "metadata": {},
   "source": [
    "### Stimulation"
   ]
  },
  {
   "cell_type": "code",
   "execution_count": 9,
   "metadata": {},
   "outputs": [
    {
     "data": {
      "application/vnd.microsoft.datawrangler.viewer.v0+json": {
       "columns": [
        {
         "name": "sample_id",
         "rawType": "category",
         "type": "unknown"
        },
        {
         "name": "CTRL",
         "rawType": "int64",
         "type": "integer"
        }
       ],
       "conversionMethod": "pd.DataFrame",
       "ref": "ecb3f102-028c-473f-bb2c-24ed38394ac9",
       "rows": [
        [
         "Samp_T59",
         "11689"
        ],
        [
         "Samp_T76",
         "11876"
        ],
        [
         "Samp_T77",
         "4974"
        ],
        [
         "Samp_T89",
         "4291"
        ],
        [
         "Samp_T90",
         "3281"
        ]
       ],
       "shape": {
        "columns": 1,
        "rows": 5
       }
      },
      "text/html": [
       "<div>\n",
       "<style scoped>\n",
       "    .dataframe tbody tr th:only-of-type {\n",
       "        vertical-align: middle;\n",
       "    }\n",
       "\n",
       "    .dataframe tbody tr th {\n",
       "        vertical-align: top;\n",
       "    }\n",
       "\n",
       "    .dataframe thead th {\n",
       "        text-align: right;\n",
       "    }\n",
       "</style>\n",
       "<table border=\"1\" class=\"dataframe\">\n",
       "  <thead>\n",
       "    <tr style=\"text-align: right;\">\n",
       "      <th>stim</th>\n",
       "      <th>CTRL</th>\n",
       "    </tr>\n",
       "    <tr>\n",
       "      <th>sample_id</th>\n",
       "      <th></th>\n",
       "    </tr>\n",
       "  </thead>\n",
       "  <tbody>\n",
       "    <tr>\n",
       "      <th>Samp_T59</th>\n",
       "      <td>11689</td>\n",
       "    </tr>\n",
       "    <tr>\n",
       "      <th>Samp_T76</th>\n",
       "      <td>11876</td>\n",
       "    </tr>\n",
       "    <tr>\n",
       "      <th>Samp_T77</th>\n",
       "      <td>4974</td>\n",
       "    </tr>\n",
       "    <tr>\n",
       "      <th>Samp_T89</th>\n",
       "      <td>4291</td>\n",
       "    </tr>\n",
       "    <tr>\n",
       "      <th>Samp_T90</th>\n",
       "      <td>3281</td>\n",
       "    </tr>\n",
       "  </tbody>\n",
       "</table>\n",
       "</div>"
      ],
      "text/plain": [
       "stim        CTRL\n",
       "sample_id       \n",
       "Samp_T59   11689\n",
       "Samp_T76   11876\n",
       "Samp_T77    4974\n",
       "Samp_T89    4291\n",
       "Samp_T90    3281"
      ]
     },
     "execution_count": 9,
     "metadata": {},
     "output_type": "execute_result"
    }
   ],
   "source": [
    "tab = adata.obs.groupby([SAMPLE_ID_COL, STIM_COL]).size()\n",
    "tab.unstack()"
   ]
  },
  {
   "cell_type": "markdown",
   "metadata": {},
   "source": [
    "### Cell type"
   ]
  },
  {
   "cell_type": "code",
   "execution_count": 10,
   "metadata": {},
   "outputs": [
    {
     "data": {
      "text/plain": [
       "CD8+ T-cells         8183\n",
       "Fibroblasts          4385\n",
       "Epithelial cells     4021\n",
       "Macrophages          3979\n",
       "Adipocytes           3955\n",
       "Monocytes            3507\n",
       "Mesangial cells      3488\n",
       "CD4+ T-cells         1476\n",
       "NK cells             1409\n",
       "B-cells              1169\n",
       "Endothelial cells     539\n",
       "Name: cellType, dtype: int64"
      ]
     },
     "execution_count": 10,
     "metadata": {},
     "output_type": "execute_result"
    }
   ],
   "source": [
    "adata.obs[CELL_TYPE_COL].value_counts()"
   ]
  },
  {
   "cell_type": "markdown",
   "metadata": {},
   "source": [
    "## Write the Dense Expression Matrix and Celltype column to use in CIBERSORTx\n"
   ]
  },
  {
   "cell_type": "code",
   "execution_count": 11,
   "metadata": {},
   "outputs": [],
   "source": [
    "sc_profile_file = SC_AUGMENTED_DATA_PATH / f'{STUDY_GEO_ID}_sig.pkl'\n",
    "\n",
    "dense_matrix = adata.X.todense()\n",
    "dense_df = pd.DataFrame(dense_matrix, columns = adata.var['gene_ids'])\n",
    "dense_df.insert(loc=0, column=CELL_TYPE_COL, value=adata.obs[CELL_TYPE_COL].to_list())\n",
    "\n",
    "pickle.dump( dense_df, open( sc_profile_file, \"wb\" ) )"
   ]
  }
 ],
 "metadata": {
  "kernelspec": {
   "display_name": "buddi_env",
   "language": "python",
   "name": "python3"
  },
  "language_info": {
   "codemirror_mode": {
    "name": "ipython",
    "version": 3
   },
   "file_extension": ".py",
   "mimetype": "text/x-python",
   "name": "python",
   "nbconvert_exporter": "python",
   "pygments_lexer": "ipython3",
   "version": "3.9.21"
  }
 },
 "nbformat": 4,
 "nbformat_minor": 2
}
