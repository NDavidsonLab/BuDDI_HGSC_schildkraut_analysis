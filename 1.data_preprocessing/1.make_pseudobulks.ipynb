{
 "cells": [
  {
   "cell_type": "markdown",
   "metadata": {},
   "source": [
    "# This notebook ... TODO"
   ]
  },
  {
   "cell_type": "code",
   "execution_count": 4,
   "metadata": {},
   "outputs": [],
   "source": [
    "import pathlib\n",
    "import yaml\n",
    "import subprocess\n",
    "\n",
    "import scanpy as sc\n",
    "import anndata as ad\n"
   ]
  },
  {
   "cell_type": "markdown",
   "metadata": {},
   "source": [
    "## Load config"
   ]
  },
  {
   "cell_type": "code",
   "execution_count": 2,
   "metadata": {},
   "outputs": [],
   "source": [
    "# Get the root directory of the analysis repository\n",
    "REPO_ROOT = subprocess.run(\n",
    "    [\"git\", \"rev-parse\", \"--show-toplevel\"], capture_output=True, text=True\n",
    ").stdout.strip()\n",
    "\n",
    "CONFIG_FILE = pathlib.Path(REPO_ROOT) / 'config.yml'\n",
    "assert CONFIG_FILE.exists(), f\"Config file not found at {CONFIG_FILE}\"\n",
    "\n",
    "with open(CONFIG_FILE, 'r') as file:\n",
    "    config_dict = yaml.safe_load(file)"
   ]
  },
  {
   "cell_type": "markdown",
   "metadata": {},
   "source": [
    "## Retrieve Path to Processed Single-Cell RNA-seq Data and relevant Metadata"
   ]
  },
  {
   "cell_type": "code",
   "execution_count": 5,
   "metadata": {},
   "outputs": [],
   "source": [
    "STUDY_GEO_ID = 'GSE154600' # TODO consider whether to move this into config.yml as well\n",
    "SC_DATA_PATH = pathlib.Path(config_dict['data_path']['sc_data_path'])\n",
    "\n",
    "SC_ADATA_PATH = SC_DATA_PATH / f'{STUDY_GEO_ID}_processed'\n",
    "assert SC_ADATA_PATH.exists(), f\"Processed Single-cell Data path {SC_ADATA_PATH} does not exist\"\n",
    "SC_ADATA_FILE = SC_ADATA_PATH / f'{STUDY_GEO_ID}_processed.h5ad'\n",
    "assert SC_ADATA_FILE.exists(), f\"Processed Single-cell Data file {SC_ADATA_FILE} does not exist\"\n",
    "\n",
    "SC_METADATA_PATH = SC_DATA_PATH / f'{STUDY_GEO_ID}_metadata'\n",
    "assert SC_METADATA_PATH.exists(), f\"Single-cell Metadata path {SC_METADATA_PATH} does not exist\""
   ]
  },
  {
   "cell_type": "markdown",
   "metadata": {},
   "source": [
    "## Preprocessing Before Moving to Pseudobulk"
   ]
  },
  {
   "cell_type": "markdown",
   "metadata": {},
   "source": [
    "### Load and Preprocess Anndata"
   ]
  },
  {
   "cell_type": "code",
   "execution_count": 6,
   "metadata": {},
   "outputs": [],
   "source": [
    "adata = sc.read_h5ad(SC_ADATA_FILE)\n",
    "adata.var_names_make_unique()"
   ]
  },
  {
   "cell_type": "markdown",
   "metadata": {},
   "source": [
    "Print some basic information"
   ]
  },
  {
   "cell_type": "code",
   "execution_count": null,
   "metadata": {},
   "outputs": [
    {
     "name": "stdout",
     "output_type": "stream",
     "text": [
      "(36111, 24520)\n",
      "              gene_ids  n_cells     mt  n_cells_by_counts  mean_counts  \\\n",
      "gene_ids                                                                 \n",
      "AL627309.1  AL627309.1       23  False                 23     0.000614   \n",
      "AL669831.5  AL669831.5      629  False                629     0.017388   \n",
      "\n",
      "            pct_dropout_by_counts  total_counts  \n",
      "gene_ids                                         \n",
      "AL627309.1              99.938567          23.0  \n",
      "AL669831.5              98.319934         651.0  \n",
      "                           GSM             Barcode  Cluster     cellType  \\\n",
      "AAACCTGAGCTGCCCA-1  GSM4675273  AAACCTGAGCTGCCCA-1        3  Macrophages   \n",
      "AAACCTGCAAGCCCAC-1  GSM4675273  AAACCTGCAAGCCCAC-1        3  Macrophages   \n",
      "\n",
      "                   hpca_celltype encode_celltype subtype  IMR_consensus  \\\n",
      "AAACCTGAGCTGCCCA-1    Macrophage     Macrophages     DIF          0.322   \n",
      "AAACCTGCAAGCCCAC-1    Macrophage     Macrophages     IMR          0.362   \n",
      "\n",
      "                    DIF_consensus  PRO_consensus  ...  celltype_granular  \\\n",
      "AAACCTGAGCTGCCCA-1          0.334          0.158  ...             immune   \n",
      "AAACCTGCAAGCCCAC-1          0.248          0.142  ...             immune   \n",
      "\n",
      "                   scpred_CellType  orig_celltype sample_id  stim n_genes  \\\n",
      "AAACCTGAGCTGCCCA-1     Macrophages            MYE  Samp_T59  CTRL     805   \n",
      "AAACCTGCAAGCCCAC-1     Macrophages            MYE  Samp_T59  CTRL    1044   \n",
      "\n",
      "                   n_genes_by_counts  total_counts total_counts_mt  \\\n",
      "AAACCTGAGCTGCCCA-1               805        1580.0            92.0   \n",
      "AAACCTGCAAGCCCAC-1              1044        2177.0            72.0   \n",
      "\n",
      "                   pct_counts_mt  \n",
      "AAACCTGAGCTGCCCA-1      5.822785  \n",
      "AAACCTGCAAGCCCAC-1      3.307304  \n",
      "\n",
      "[2 rows x 29 columns]\n"
     ]
    }
   ],
   "source": [
    "print(adata.shape)\n",
    "print(adata.var.head())\n",
    "print(adata.obs.head())"
   ]
  }
 ],
 "metadata": {
  "kernelspec": {
   "display_name": "buddi_env",
   "language": "python",
   "name": "python3"
  },
  "language_info": {
   "codemirror_mode": {
    "name": "ipython",
    "version": 3
   },
   "file_extension": ".py",
   "mimetype": "text/x-python",
   "name": "python",
   "nbconvert_exporter": "python",
   "pygments_lexer": "ipython3",
   "version": "3.9.21"
  }
 },
 "nbformat": 4,
 "nbformat_minor": 2
}
