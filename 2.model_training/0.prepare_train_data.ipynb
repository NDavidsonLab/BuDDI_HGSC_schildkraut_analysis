{
 "cells": [
  {
   "cell_type": "markdown",
   "metadata": {},
   "source": [
    "# This notebook performs data formatting for training"
   ]
  },
  {
   "cell_type": "code",
   "execution_count": 1,
   "metadata": {},
   "outputs": [],
   "source": [
    "import joblib\n",
    "import sys\n",
    "import pathlib\n",
    "import yaml\n",
    "import subprocess\n",
    "import re\n",
    "from collections import defaultdict\n",
    "\n",
    "import numpy as np\n",
    "import pandas as pd\n",
    "import scanpy as sc\n",
    "import matplotlib.pyplot as plt\n",
    "from sklearn.preprocessing import OneHotEncoder, MinMaxScaler\n",
    "from matplotlib_venn import venn2, venn3\n",
    "\n",
    "from buddi_data import BuDDIData"
   ]
  },
  {
   "cell_type": "markdown",
   "metadata": {},
   "source": [
    "## Metadata Column Definition"
   ]
  },
  {
   "cell_type": "code",
   "execution_count": 2,
   "metadata": {},
   "outputs": [],
   "source": [
    "CELL_TYPE_COL = 'encode_celltype'\n",
    "SAMPLE_ID_COL = 'sample_id'\n",
    "STIM_COL = 'stim'\n",
    "TECH_COL = 'samp_type'\n",
    "DATASPLIT_COL = 'isTraining'\n",
    "\n",
    "GENE_ID_COL = 'gene_ids'"
   ]
  },
  {
   "cell_type": "code",
   "execution_count": 3,
   "metadata": {},
   "outputs": [],
   "source": [
    "# Get the root directory of the analysis repository\n",
    "REPO_ROOT = subprocess.run(\n",
    "    [\"git\", \"rev-parse\", \"--show-toplevel\"], capture_output=True, text=True\n",
    ").stdout.strip()\n",
    "REPO_ROOT = pathlib.Path(REPO_ROOT)\n",
    "\n",
    "CONFIG_FILE = REPO_ROOT / 'config.yml'\n",
    "assert CONFIG_FILE.exists(), f\"Config file not found at {CONFIG_FILE}\"\n",
    "\n",
    "with open(CONFIG_FILE, 'r') as file:\n",
    "    config_dict = yaml.safe_load(file)"
   ]
  },
  {
   "cell_type": "markdown",
   "metadata": {},
   "source": [
    "## Define paths to Input Files/Output"
   ]
  },
  {
   "cell_type": "markdown",
   "metadata": {},
   "source": [
    "### Input from Pre-Processing"
   ]
  },
  {
   "cell_type": "code",
   "execution_count": 4,
   "metadata": {},
   "outputs": [],
   "source": [
    "PREPROCESSING_OUTPUT_PATH = REPO_ROOT / 'processed_data'\n",
    "assert PREPROCESSING_OUTPUT_PATH.exists(), f\"Preprocessing output path {PREPROCESSING_OUTPUT_PATH} does not exist\"\n",
    "\n",
    "SC_AUGMENTED_DATA_PATH = PREPROCESSING_OUTPUT_PATH / 'sc_augmented'\n",
    "assert SC_AUGMENTED_DATA_PATH.exists(), f\"Single cell augmented data path {SC_AUGMENTED_DATA_PATH} does not exist\"\n",
    "pseudobulk_files = list(SC_AUGMENTED_DATA_PATH.glob('*_splits.pkl'))\n",
    "assert len(pseudobulk_files) > 0, f\"No pseudobulk files found in {SC_AUGMENTED_DATA_PATH}\"\n",
    "\n",
    "BULK_FORMAT_DATA_PATH = PREPROCESSING_OUTPUT_PATH / 'bulk_formatted'\n",
    "assert BULK_FORMAT_DATA_PATH.exists(), f\"Bulk format data path {BULK_FORMAT_DATA_PATH} does not exist\"\n",
    "formatted_bulk_files = list(BULK_FORMAT_DATA_PATH.glob('*.h5ad'))\n",
    "assert len(formatted_bulk_files) > 0, f\"No formatted bulk files found in {BULK_FORMAT_DATA_PATH}\""
   ]
  },
  {
   "cell_type": "markdown",
   "metadata": {},
   "source": [
    "### Input Cibersortx signature gene file "
   ]
  },
  {
   "cell_type": "code",
   "execution_count": 5,
   "metadata": {},
   "outputs": [
    {
     "name": "stdout",
     "output_type": "stream",
     "text": [
      "2892 signature genes from CIBERSORTx\n"
     ]
    }
   ],
   "source": [
    "## (TODO this is really ugly, maybe the data path should have a dedicated path to cibersortx output)?\n",
    "CIBERSORTX_SIG_GENE_FILE = pathlib.Path(config_dict['data_path']['sc_data_path']) /\\\n",
    "    'GSE154600_cibersortx_output' /\\\n",
    "    'CIBERSORTx_Job4_GSM4675273_cibersortx_sc_reference_input_inferred_phenoclasses.CIBERSORTx_Job4_GSM4675273_cibersortx_sc_reference_input_inferred_refsample.bm.K999.txt'\n",
    "assert CIBERSORTX_SIG_GENE_FILE.exists(), f\"CIBERSORTx signature gene file not found at {CIBERSORTX_SIG_GENE_FILE}\"\n",
    "\n",
    "cibersortx_sig_df = pd.read_csv(CIBERSORTX_SIG_GENE_FILE, sep='\\t', header=0)\n",
    "cibersortx_sig_genes = cibersortx_sig_df['NAME'].values.tolist()\n",
    "print(f\"{len(cibersortx_sig_genes)} signature genes from CIBERSORTx\")"
   ]
  },
  {
   "cell_type": "markdown",
   "metadata": {},
   "source": [
    "### Output trained model weight"
   ]
  },
  {
   "cell_type": "code",
   "execution_count": 6,
   "metadata": {},
   "outputs": [],
   "source": [
    "TRAINED_MODELS_PATH = REPO_ROOT / 'trained_models'\n",
    "TRAINED_MODELS_PATH.mkdir(exist_ok=True)\n",
    "TRAIN_PLOT_PATH = TRAINED_MODELS_PATH / 'train_plots'\n",
    "TRAIN_PLOT_PATH.mkdir(exist_ok=True)"
   ]
  },
  {
   "cell_type": "markdown",
   "metadata": {},
   "source": [
    "## Load Preprocessed Data"
   ]
  },
  {
   "cell_type": "markdown",
   "metadata": {},
   "source": [
    "### Read gene id metadata files for both sc pseudobulk and real bulk and find interesection"
   ]
  },
  {
   "cell_type": "code",
   "execution_count": 7,
   "metadata": {},
   "outputs": [
    {
     "name": "stdout",
     "output_type": "stream",
     "text": [
      "Number of bulk genes: 18509\n",
      "Number of single cell genes: 24520\n",
      "Number of genes in intersection of single cell and bulk: 15836\n"
     ]
    },
    {
     "data": {
      "text/plain": [
       "<matplotlib_venn._common.VennDiagram at 0x752876daffd0>"
      ]
     },
     "execution_count": 7,
     "metadata": {},
     "output_type": "execute_result"
    },
    {
     "data": {
      "image/png": "[encoded data removed]",
      "text/plain": [
       "<Figure size 640x480 with 1 Axes>"
      ]
     },
     "metadata": {},
     "output_type": "display_data"
    }
   ],
   "source": [
    "bulk_gene_file = BULK_FORMAT_DATA_PATH.glob('*.pkl')\n",
    "bulk_gene_file = list(bulk_gene_file)[0]\n",
    "bulk_genes = pd.read_pickle(bulk_gene_file)\n",
    "print(f\"Number of bulk genes: {len(bulk_genes)}\")\n",
    "\n",
    "sc_gene_file = SC_AUGMENTED_DATA_PATH.glob('*_genes.pkl')\n",
    "sc_gene_file = list(sc_gene_file)[0]\n",
    "sc_genes = pd.read_pickle(sc_gene_file)\n",
    "print(f\"Number of single cell genes: {len(sc_genes)}\")\n",
    "\n",
    "# Intersect the genes\n",
    "sc_bulk_intersection_genes = set(sc_genes) & set(bulk_genes)\n",
    "sc_bulk_intersection_genes = list(sc_bulk_intersection_genes)\n",
    "print(f\"Number of genes in intersection of single cell and bulk: {len(sc_bulk_intersection_genes)}\")\n",
    "\n",
    "# drop cibersortx signature genes that are not in the sc bulk intersection\n",
    "cibersortx_sig_genes = set(cibersortx_sig_genes).intersection(sc_bulk_intersection_genes)\n",
    "cibersortx_sig_genes = list(cibersortx_sig_genes)\n",
    "\n",
    "# Visualize the raw overlap of genes\n",
    "venn3(\n",
    "    [\n",
    "        set(sc_genes),\n",
    "        set(bulk_genes),\n",
    "        set(cibersortx_sig_genes)\n",
    "    ],\n",
    "    set_labels=['Single Cell', 'Bulk', 'CIBERSORTx']\n",
    ")"
   ]
  },
  {
   "cell_type": "markdown",
   "metadata": {},
   "source": [
    "### Load Processed Bulk"
   ]
  },
  {
   "cell_type": "code",
   "execution_count": 8,
   "metadata": {},
   "outputs": [
    {
     "name": "stdout",
     "output_type": "stream",
     "text": [
      "Number of bulk samples: 588\n",
      "Number of bulk stims: 2\n"
     ]
    }
   ],
   "source": [
    "processed_bulk = sc.read(formatted_bulk_files[0]) \n",
    "\n",
    "bulk_sample_ids = processed_bulk.obs[SAMPLE_ID_COL].unique()\n",
    "n_bulk_samples = len(bulk_sample_ids)\n",
    "print(f\"Number of bulk samples: {n_bulk_samples}\")\n",
    "\n",
    "bulk_stims = processed_bulk.obs[STIM_COL].unique()\n",
    "n_bulk_stims = len(bulk_stims)\n",
    "print(f\"Number of bulk stims: {n_bulk_stims}\")\n",
    "\n",
    "## Subset the bulk data to only include the intersection genes\n",
    "processed_bulk = processed_bulk[\n",
    "    :, \n",
    "    processed_bulk.var[GENE_ID_COL].isin(sc_bulk_intersection_genes)]\n",
    "\n",
    "X_bulk_train = pd.DataFrame(\n",
    "    processed_bulk.X,\n",
    "    index=processed_bulk.obs[SAMPLE_ID_COL],\n",
    "    columns=processed_bulk.var[GENE_ID_COL]\n",
    ")\n",
    "\n",
    "# Add metadata columns \n",
    "meta_bulk_train = processed_bulk.obs.loc[:,[SAMPLE_ID_COL, STIM_COL]]\n",
    "meta_bulk_train[TECH_COL] = 'bulk'\n",
    "meta_bulk_train[DATASPLIT_COL] = 'Train'\n",
    "meta_bulk_train['cell_prop_type'] = 'bulk'\n",
    "meta_bulk_train['cell_type'] = 'bulk'"
   ]
  },
  {
   "cell_type": "markdown",
   "metadata": {},
   "source": [
    "### Load sc Pseudobulk"
   ]
  },
  {
   "cell_type": "code",
   "execution_count": 9,
   "metadata": {},
   "outputs": [],
   "source": [
    "pattern = re.compile(r'^(.*)_((?:Train)|(?:Test))_((?:meta)|(?:prop)|(?:pseudo))_splits\\.pkl$')\n",
    "\n",
    "# Temporary dictionary to group by sample_id\n",
    "temp_dict = defaultdict(lambda: defaultdict(dict))\n",
    "\n",
    "for path in pseudobulk_files:\n",
    "    file = path.name\n",
    "    match = pattern.match(file)\n",
    "    if match:\n",
    "        sample_id, datasplit, datatype = match.groups()\n",
    "        temp_dict[datasplit][sample_id][datatype] = path\n",
    "\n",
    "# Organizing the sorted results\n",
    "grouped_files = {\n",
    "    \"Train\": {\"meta\": [], \"prop\": [], \"pseudo\": []},\n",
    "    \"Test\": {\"meta\": [], \"prop\": [], \"pseudo\": []}\n",
    "}\n",
    "\n",
    "# Sort within each datasplit by sample_id and organize the lists\n",
    "for datasplit in [\"Train\", \"Test\"]:\n",
    "    sorted_samples = sorted(temp_dict[datasplit].keys())  # Sort by sample_id\n",
    "    for sample_id in sorted_samples:\n",
    "        for datatype in [\"meta\", \"prop\", \"pseudo\"]:\n",
    "            if datatype in temp_dict[datasplit][sample_id]:\n",
    "                grouped_files[datasplit][datatype].append(temp_dict[datasplit][sample_id][datatype])\n",
    "\n",
    "meta_sc_train = pd.concat(\n",
    "    [pd.read_pickle(file) for file in grouped_files['Train']['meta']]\n",
    ")\n",
    "meta_sc_train[DATASPLIT_COL] = 'Train'\n",
    "Y_sc_train = pd.concat(\n",
    "    [pd.read_pickle(file) for file in grouped_files['Train']['prop']]\n",
    ")\n",
    "X_sc_train = pd.concat(\n",
    "    [pd.read_pickle(file).loc[:, sc_bulk_intersection_genes] for file in grouped_files['Train']['pseudo']]\n",
    ")"
   ]
  },
  {
   "cell_type": "markdown",
   "metadata": {},
   "source": [
    "## Format Data\n",
    "### Concatenate X, Y"
   ]
  },
  {
   "cell_type": "code",
   "execution_count": 10,
   "metadata": {},
   "outputs": [],
   "source": [
    "# Generate place holder for bulk proportion (not used)\n",
    "Y_bulk_dummy = pd.DataFrame(\n",
    "    np.zeros((X_bulk_train.shape[0], Y_sc_train.shape[1])),\n",
    "    columns=Y_sc_train.columns\n",
    ")\n",
    "\n",
    "X_concat = pd.concat([X_bulk_train, X_sc_train])\n",
    "Y_concat = pd.concat([Y_bulk_dummy, Y_sc_train])\n",
    "meta_concat = pd.concat([meta_bulk_train, meta_sc_train])\n",
    "\n",
    "# save gene and cell type names\n",
    "X_gene_names = X_concat.columns.to_list()\n",
    "Y_cell_type_names = Y_concat.columns.to_list()"
   ]
  },
  {
   "cell_type": "markdown",
   "metadata": {},
   "source": [
    "### Gene Feature Selection"
   ]
  },
  {
   "cell_type": "code",
   "execution_count": 11,
   "metadata": {},
   "outputs": [
    {
     "data": {
      "image/png": "[encoded data removed]",
      "text/plain": [
       "<Figure size 640x480 with 1 Axes>"
      ]
     },
     "metadata": {},
     "output_type": "display_data"
    },
    {
     "name": "stdout",
     "output_type": "stream",
     "text": [
      "(11088, 7000)\n"
     ]
    }
   ],
   "source": [
    "## get the top variable genes\n",
    "X_colmean = X_concat.values.mean(axis=0) # mean across samples\n",
    "X_colvar = X_concat.values.var(axis=0) # variance across samples\n",
    "# coefficient of variation which is the var to mean ratio\n",
    "X_CoV = np.array(np.divide(X_colvar, X_colmean+0.001)) \n",
    "\n",
    "# need to get the genes such that\n",
    "# the union of the highly variable and the\n",
    "# CIBERSORTx genes are 7000 total\n",
    "num_genes_found = False\n",
    "\n",
    "gene_df = pd.DataFrame(X_gene_names, columns=['gene'])\n",
    "\n",
    "# start with top 7000 genes by CoV\n",
    "initial_count = 7000\n",
    "while not num_genes_found:\n",
    "    # retrieve the top initial_count genes by CoV\n",
    "    idx_top = np.argpartition(X_CoV, -initial_count)[-initial_count:]\n",
    "    # get gene names from idx_top\n",
    "    top_gene_df = gene_df.iloc[idx_top]\n",
    "\n",
    "    # produce the union of the top genes and the cibersort genes\n",
    "    CoV_only = np.union1d(top_gene_df, cibersortx_sig_genes)\n",
    "\n",
    "    # check if the union is 7000\n",
    "    if len(CoV_only) == 7000:\n",
    "        num_genes_found = True\n",
    "    else:\n",
    "        # if not decrement the top CoV gene to retrieve by 1\n",
    "        # in the next iteration, there will be two possibilities\n",
    "        # 1. the union will have one less gene due to the removed gene being only in the CoV genes\n",
    "        # 2. the union will have the same number of genes as this iteration due to the removed \n",
    "        #    gene being also present in CIBERSORTx genes\n",
    "        # keep running this loop until the union has 7000 genes\n",
    "        initial_count = initial_count -1\n",
    "\n",
    "idx_top = np.argpartition(X_CoV, -initial_count)[-initial_count:] # num_genes to get 7000\n",
    "gene_df = gene_df.iloc[idx_top]\n",
    "venn2([set(gene_df.values.flatten()), \n",
    "       set(cibersortx_sig_genes)], \n",
    "       set_labels = ('Top CoV Genes', 'Cibersort Genes'))\n",
    "plt.show()\n",
    "\n",
    "feature_select_genes = np.union1d(gene_df, cibersortx_sig_genes)\n",
    "\n",
    "# to numpy matrix\n",
    "X = X_concat.loc[:,feature_select_genes].to_numpy()\n",
    "print(X.shape)\n",
    "\n",
    "Y = Y_concat.to_numpy()"
   ]
  },
  {
   "cell_type": "markdown",
   "metadata": {},
   "source": [
    "### Encode Metadata"
   ]
  },
  {
   "cell_type": "code",
   "execution_count": 12,
   "metadata": {},
   "outputs": [],
   "source": [
    "FIELDS_TO_ENCODE = [SAMPLE_ID_COL, STIM_COL, TECH_COL]\n",
    "\n",
    "encoded = {}\n",
    "\n",
    "for field in FIELDS_TO_ENCODE:\n",
    "    encoder = OneHotEncoder(dtype=int)\n",
    "    encoded[field] = pd.DataFrame(\n",
    "        encoder.fit_transform(meta_concat.loc[:,[field]]).toarray(),\n",
    "        columns=encoder.get_feature_names_out([field])\n",
    "    )"
   ]
  },
  {
   "cell_type": "markdown",
   "metadata": {},
   "source": [
    "## Expression Normalization"
   ]
  },
  {
   "cell_type": "code",
   "execution_count": 13,
   "metadata": {},
   "outputs": [],
   "source": [
    "# Library size normalization\n",
    "expected_libsizes = 1e6\n",
    "\n",
    "libsizes = np.sum(X, axis=1, keepdims=True)\n",
    "libsizes[libsizes == 0] = 1\n",
    "X_norm = X / libsizes * expected_libsizes\n",
    "\n",
    "## normalize within sample\n",
    "clip_upper = np.quantile(X_norm, 0.9)\n",
    "X_norm = np.clip(X_norm, 0, clip_upper)\n",
    "\n",
    "## MinMax scaling\n",
    "scaler = MinMaxScaler()\n",
    "scaler.fit(X_norm)\n",
    "X_norm = scaler.transform(X_norm)"
   ]
  },
  {
   "cell_type": "markdown",
   "metadata": {},
   "source": [
    "### Supervised vs Unsupervised split"
   ]
  },
  {
   "cell_type": "code",
   "execution_count": null,
   "metadata": {},
   "outputs": [],
   "source": [
    "idx_train = np.where(meta_concat[DATASPLIT_COL]==\"Train\")[0] \n",
    "idx_bulk = np.where(meta_concat[TECH_COL] == \"bulk\")[0]\n",
    "idx_sc = np.where(meta_concat[TECH_COL] != \"bulk\")[0]\n",
    "\n",
    "# for unknown proportions; \n",
    "# this is bulks used in training\n",
    "idx_bulk_train = np.intersect1d(idx_bulk, idx_train)\n",
    "np.random.shuffle(idx_bulk_train) # shuffle the indices randomly\n",
    "\n",
    "X_unkp = X_norm[idx_bulk_train,]\n",
    "label_unkp = encoded[SAMPLE_ID_COL].values[idx_bulk_train,]\n",
    "drug_unkp = encoded[STIM_COL].values[idx_bulk_train,]\n",
    "bulk_unkp = encoded[TECH_COL].values[idx_bulk_train,]\n",
    "y_unkp = Y[idx_bulk_train,]\n",
    "\n",
    "# for known proportions\n",
    "idx_sc_train = np.intersect1d(idx_sc, idx_train)\n",
    "np.random.shuffle(idx_sc_train) # shuffle the indices randomly\n",
    "\n",
    "X_kp = X_norm[idx_sc_train,]\n",
    "label_kp = encoded[SAMPLE_ID_COL].values[idx_sc_train,]\n",
    "drug_kp = encoded[STIM_COL].values[idx_sc_train,]\n",
    "bulk_kp = encoded[TECH_COL].values[idx_sc_train,]\n",
    "y_kp = Y[idx_sc_train,]\n",
    "\n",
    "meta_kp = meta_concat.iloc[idx_sc_train,:]\n",
    "meta_unkp = meta_concat.iloc[idx_bulk_train,:]"
   ]
  },
  {
   "cell_type": "markdown",
   "metadata": {},
   "source": [
    "## Dump Formatted Train Data"
   ]
  },
  {
   "cell_type": "code",
   "execution_count": 17,
   "metadata": {},
   "outputs": [],
   "source": [
    "train_data = BuDDIData(\n",
    "    X_unkp,\n",
    "    y_unkp,\n",
    "    label_unkp,\n",
    "    drug_unkp,\n",
    "    bulk_unkp,\n",
    "    meta_unkp,\n",
    "    X_kp,\n",
    "    y_kp,\n",
    "    label_kp,\n",
    "    drug_kp,\n",
    "    bulk_kp,\n",
    "    meta_kp,\n",
    "    feature_select_genes,\n",
    "    Y_concat.columns.tolist(),\n",
    "    encoded\n",
    ")"
   ]
  },
  {
   "cell_type": "code",
   "execution_count": 19,
   "metadata": {},
   "outputs": [
    {
     "data": {
      "text/plain": [
       "['train_data.pkl']"
      ]
     },
     "execution_count": 19,
     "metadata": {},
     "output_type": "execute_result"
    }
   ],
   "source": [
    "joblib.dump(train_data, \"train_data.pkl\")"
   ]
  }
 ],
 "metadata": {
  "kernelspec": {
   "display_name": "buddi_conda",
   "language": "python",
   "name": "python3"
  },
  "language_info": {
   "codemirror_mode": {
    "name": "ipython",
    "version": 3
   },
   "file_extension": ".py",
   "mimetype": "text/x-python",
   "name": "python",
   "nbconvert_exporter": "python",
   "pygments_lexer": "ipython3",
   "version": "3.9.21"
  }
 },
 "nbformat": 4,
 "nbformat_minor": 2
}
