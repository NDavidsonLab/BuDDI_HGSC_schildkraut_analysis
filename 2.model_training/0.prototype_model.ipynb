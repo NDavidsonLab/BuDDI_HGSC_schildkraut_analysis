{
 "cells": [
  {
   "cell_type": "markdown",
   "metadata": {},
   "source": [
    "# This notebook runs ..."
   ]
  },
  {
   "cell_type": "code",
   "execution_count": 1,
   "metadata": {},
   "outputs": [
    {
     "name": "stderr",
     "output_type": "stream",
     "text": [
      "2025-03-18 15:24:10.546333: I tensorflow/core/util/port.cc:111] oneDNN custom operations are on. You may see slightly different numerical results due to floating-point round-off errors from different computation orders. To turn them off, set the environment variable `TF_ENABLE_ONEDNN_OPTS=0`.\n",
      "2025-03-18 15:24:10.566586: E tensorflow/compiler/xla/stream_executor/cuda/cuda_dnn.cc:9342] Unable to register cuDNN factory: Attempting to register factory for plugin cuDNN when one has already been registered\n",
      "2025-03-18 15:24:10.566595: E tensorflow/compiler/xla/stream_executor/cuda/cuda_fft.cc:609] Unable to register cuFFT factory: Attempting to register factory for plugin cuFFT when one has already been registered\n",
      "2025-03-18 15:24:10.566600: E tensorflow/compiler/xla/stream_executor/cuda/cuda_blas.cc:1518] Unable to register cuBLAS factory: Attempting to register factory for plugin cuBLAS when one has already been registered\n",
      "2025-03-18 15:24:10.570387: I tensorflow/core/platform/cpu_feature_guard.cc:182] This TensorFlow binary is optimized to use available CPU instructions in performance-critical operations.\n",
      "To enable the following instructions: SSE4.1 SSE4.2 AVX AVX2 AVX512F AVX512_VNNI AVX512_BF16 FMA, in other operations, rebuild TensorFlow with the appropriate compiler flags.\n"
     ]
    }
   ],
   "source": [
    "import os\n",
    "import pathlib\n",
    "import yaml\n",
    "import subprocess\n",
    "import re\n",
    "from collections import defaultdict\n",
    "\n",
    "import numpy as np\n",
    "import pandas as pd\n",
    "import scanpy as sc\n",
    "import anndata as ad\n",
    "import matplotlib.pyplot as plt\n",
    "from sklearn.preprocessing import OneHotEncoder, MinMaxScaler\n",
    "from matplotlib_venn import venn2, venn3\n",
    "import seaborn as sns\n",
    "\n",
    "import tensorflow as tf"
   ]
  },
  {
   "cell_type": "markdown",
   "metadata": {},
   "source": [
    "## Metadata Column Definition"
   ]
  },
  {
   "cell_type": "code",
   "execution_count": 2,
   "metadata": {},
   "outputs": [],
   "source": [
    "CELL_TYPE_COL = 'encode_celltype'\n",
    "SAMPLE_ID_COL = 'sample_id'\n",
    "STIM_COL = 'stim'\n",
    "\n",
    "GENE_ID_COL = 'gene_ids'\n",
    "\n",
    "DATASPLIT_COL = 'isTraining'"
   ]
  },
  {
   "cell_type": "markdown",
   "metadata": {},
   "source": [
    "## Define paths to Required Input Files"
   ]
  },
  {
   "cell_type": "markdown",
   "metadata": {},
   "source": [
    "### Load config\n",
    "The config file specifies the path to data and software repo (due to currently in active development)"
   ]
  },
  {
   "cell_type": "code",
   "execution_count": 3,
   "metadata": {},
   "outputs": [],
   "source": [
    "# Get the root directory of the analysis repository\n",
    "REPO_ROOT = subprocess.run(\n",
    "    [\"git\", \"rev-parse\", \"--show-toplevel\"], capture_output=True, text=True\n",
    ").stdout.strip()\n",
    "REPO_ROOT = pathlib.Path(REPO_ROOT)\n",
    "\n",
    "CONFIG_FILE = REPO_ROOT / 'config.yml'\n",
    "assert CONFIG_FILE.exists(), f\"Config file not found at {CONFIG_FILE}\"\n",
    "\n",
    "with open(CONFIG_FILE, 'r') as file:\n",
    "    config_dict = yaml.safe_load(file)"
   ]
  },
  {
   "cell_type": "markdown",
   "metadata": {},
   "source": [
    "### Check for Pre-Processing Output presence"
   ]
  },
  {
   "cell_type": "code",
   "execution_count": 4,
   "metadata": {},
   "outputs": [],
   "source": [
    "PREPROCESSING_OUTPUT_PATH = REPO_ROOT / 'processed_data'\n",
    "assert PREPROCESSING_OUTPUT_PATH.exists(), f\"Preprocessing output path {PREPROCESSING_OUTPUT_PATH} does not exist\"\n",
    "\n",
    "SC_AUGMENTED_DATA_PATH = PREPROCESSING_OUTPUT_PATH / 'sc_augmented'\n",
    "assert SC_AUGMENTED_DATA_PATH.exists(), f\"Single cell augmented data path {SC_AUGMENTED_DATA_PATH} does not exist\"\n",
    "pseudobulk_files = list(SC_AUGMENTED_DATA_PATH.glob('*_splits.pkl'))\n",
    "assert len(pseudobulk_files) > 0, f\"No pseudobulk files found in {SC_AUGMENTED_DATA_PATH}\"\n",
    "\n",
    "BULK_FORMAT_DATA_PATH = PREPROCESSING_OUTPUT_PATH / 'bulk_formatted'\n",
    "assert BULK_FORMAT_DATA_PATH.exists(), f\"Bulk format data path {BULK_FORMAT_DATA_PATH} does not exist\"\n",
    "formatted_bulk_files = list(BULK_FORMAT_DATA_PATH.glob('*.h5ad'))\n",
    "assert len(formatted_bulk_files) > 0, f\"No formatted bulk files found in {BULK_FORMAT_DATA_PATH}\""
   ]
  },
  {
   "cell_type": "markdown",
   "metadata": {},
   "source": [
    "### Hard-coded path to Cibersortx signature gene file (TODO make this more elegant?)"
   ]
  },
  {
   "cell_type": "code",
   "execution_count": 5,
   "metadata": {},
   "outputs": [],
   "source": [
    "CIBERSORTX_SIG_GENE_FILE = pathlib.Path(config_dict['data_path']['sc_data_path']) /\\\n",
    "    'GSE154600_cibersortx_output' /\\\n",
    "    'CIBERSORTx_Job4_GSM4675273_cibersortx_sc_reference_input_inferred_phenoclasses.CIBERSORTx_Job4_GSM4675273_cibersortx_sc_reference_input_inferred_refsample.bm.K999.txt'\n",
    "assert CIBERSORTX_SIG_GENE_FILE.exists(), f\"CIBERSORTx signature gene file not found at {CIBERSORTX_SIG_GENE_PATH}\""
   ]
  },
  {
   "cell_type": "markdown",
   "metadata": {},
   "source": [
    "## Load Processed Data and Feature select using cibersortx"
   ]
  },
  {
   "cell_type": "markdown",
   "metadata": {},
   "source": [
    "### Cibersortx signature genes"
   ]
  },
  {
   "cell_type": "code",
   "execution_count": 6,
   "metadata": {},
   "outputs": [
    {
     "name": "stdout",
     "output_type": "stream",
     "text": [
      "2892 signature genes from CIBERSORTx\n"
     ]
    }
   ],
   "source": [
    "cibersortx_sig_df = pd.read_csv(CIBERSORTX_SIG_GENE_FILE, sep='\\t', header=0)\n",
    "cibersortx_sig_genes = cibersortx_sig_df['NAME'].values.tolist()\n",
    "print(f\"{len(cibersortx_sig_genes)} signature genes from CIBERSORTx\")"
   ]
  },
  {
   "cell_type": "markdown",
   "metadata": {},
   "source": [
    "### Processed Bulk"
   ]
  },
  {
   "cell_type": "code",
   "execution_count": 7,
   "metadata": {},
   "outputs": [],
   "source": [
    "## TODO support for multiple formatted bulk files\n",
    "processed_bulk = sc.read(formatted_bulk_files[0]) # Assumes only single file for processed bulk"
   ]
  },
  {
   "cell_type": "code",
   "execution_count": 8,
   "metadata": {},
   "outputs": [
    {
     "name": "stdout",
     "output_type": "stream",
     "text": [
      "Number of bulk samples: 588\n",
      "Number of bulk stims: 2\n",
      "Number of bulk genes: 18509\n"
     ]
    }
   ],
   "source": [
    "bulk_sample_ids = processed_bulk.obs[SAMPLE_ID_COL].unique()\n",
    "n_bulk_samples = len(bulk_sample_ids)\n",
    "print(f\"Number of bulk samples: {n_bulk_samples}\")\n",
    "\n",
    "bulk_stims = processed_bulk.obs[STIM_COL].unique()\n",
    "n_bulk_stims = len(bulk_stims)\n",
    "print(f\"Number of bulk stims: {n_bulk_stims}\")\n",
    "\n",
    "bulk_genes = processed_bulk.var[GENE_ID_COL].values.tolist()\n",
    "print(f\"Number of bulk genes: {len(bulk_genes)}\")"
   ]
  },
  {
   "cell_type": "markdown",
   "metadata": {},
   "source": [
    "### Pseudobulks"
   ]
  },
  {
   "cell_type": "code",
   "execution_count": 9,
   "metadata": {},
   "outputs": [
    {
     "name": "stdout",
     "output_type": "stream",
     "text": [
      "Number of single cell genes: 24520\n"
     ]
    }
   ],
   "source": [
    "sc_gene_file = SC_AUGMENTED_DATA_PATH.glob('*_genes.pkl')\n",
    "sc_gene_file = list(sc_gene_file)[0]\n",
    "sc_genes = pd.read_pickle(sc_gene_file)\n",
    "print(f\"Number of single cell genes: {len(sc_genes)}\")\n"
   ]
  },
  {
   "cell_type": "markdown",
   "metadata": {},
   "source": [
    "### Visualize the overlap of genes"
   ]
  },
  {
   "cell_type": "code",
   "execution_count": 10,
   "metadata": {},
   "outputs": [
    {
     "data": {
      "text/plain": [
       "<matplotlib_venn._common.VennDiagram at 0x7e742c40ba00>"
      ]
     },
     "execution_count": 10,
     "metadata": {},
     "output_type": "execute_result"
    },
    {
     "data": {
      "image/png": "[encoded data removed]",
      "text/plain": [
       "<Figure size 640x480 with 1 Axes>"
      ]
     },
     "metadata": {},
     "output_type": "display_data"
    }
   ],
   "source": [
    "venn3(\n",
    "    [\n",
    "        set(sc_genes),\n",
    "        set(bulk_genes),\n",
    "        set(cibersortx_sig_genes)\n",
    "    ],\n",
    "    set_labels=['Single Cell', 'Bulk', 'CIBERSORTx']\n",
    ")"
   ]
  },
  {
   "cell_type": "markdown",
   "metadata": {},
   "source": [
    "### Subset bulk"
   ]
  },
  {
   "cell_type": "code",
   "execution_count": 11,
   "metadata": {},
   "outputs": [
    {
     "name": "stdout",
     "output_type": "stream",
     "text": [
      "Number of genes in intersection of single cell and bulk: 15836\n"
     ]
    }
   ],
   "source": [
    "sc_bulk_intersection_genes = set(sc_genes).intersection(set(bulk_genes))\n",
    "sc_bulk_intersection_genes = list(sc_bulk_intersection_genes)\n",
    "print(f\"Number of genes in intersection of single cell and bulk: {len(sc_bulk_intersection_genes)}\")\n",
    "\n",
    "## Subset the bulk data to only include the intersection genes\n",
    "processed_bulk = processed_bulk[\n",
    "    :, \n",
    "    processed_bulk.var[GENE_ID_COL].isin(sc_bulk_intersection_genes)]\n",
    "\n",
    "X_bulk_train = pd.DataFrame(\n",
    "    processed_bulk.X,\n",
    "    index=processed_bulk.obs[SAMPLE_ID_COL],\n",
    "    columns=processed_bulk.var[GENE_ID_COL]\n",
    ")\n",
    "\n",
    "# No Y for real bulk\n",
    "\n",
    "# Add metadata columns \n",
    "## TODO: perhaps move this to preprocessing?\n",
    "meta_bulk_train = processed_bulk.obs.loc[:,[SAMPLE_ID_COL, STIM_COL]]\n",
    "meta_bulk_train['isTraining'] = 'Train'\n",
    "meta_bulk_train['cell_prop_type'] = 'bulk'\n",
    "meta_bulk_train['samp_type'] = 'bulk'"
   ]
  },
  {
   "cell_type": "markdown",
   "metadata": {},
   "source": [
    "### Load Pseudobulk"
   ]
  },
  {
   "cell_type": "code",
   "execution_count": 12,
   "metadata": {},
   "outputs": [],
   "source": [
    "pattern = re.compile(r'^(.*)_((?:Train)|(?:Test))_((?:meta)|(?:prop)|(?:pseudo))_splits\\.pkl$')\n",
    "\n",
    "# Temporary dictionary to group by sample_id\n",
    "temp_dict = defaultdict(lambda: defaultdict(dict))\n",
    "\n",
    "for path in pseudobulk_files:\n",
    "    file = path.name\n",
    "    match = pattern.match(file)\n",
    "    if match:\n",
    "        sample_id, datasplit, datatype = match.groups()\n",
    "        temp_dict[datasplit][sample_id][datatype] = path\n",
    "\n",
    "# Organizing the sorted results\n",
    "grouped_files = {\n",
    "    \"Train\": {\"meta\": [], \"prop\": [], \"pseudo\": []},\n",
    "    \"Test\": {\"meta\": [], \"prop\": [], \"pseudo\": []}\n",
    "}\n",
    "\n",
    "# Sort within each datasplit by sample_id and organize the lists\n",
    "for datasplit in [\"Train\", \"Test\"]:\n",
    "    sorted_samples = sorted(temp_dict[datasplit].keys())  # Sort by sample_id\n",
    "    for sample_id in sorted_samples:\n",
    "        for datatype in [\"meta\", \"prop\", \"pseudo\"]:\n",
    "            if datatype in temp_dict[datasplit][sample_id]:\n",
    "                grouped_files[datasplit][datatype].append(temp_dict[datasplit][sample_id][datatype])\n",
    "\n",
    "meta_sc_train = pd.concat(\n",
    "    [pd.read_pickle(file) for file in grouped_files['Train']['meta']]\n",
    ")\n",
    "meta_sc_train['stim'] = 'white' # ugly fix\n",
    "Y_sc_train = pd.concat(\n",
    "    [pd.read_pickle(file) for file in grouped_files['Train']['prop']]\n",
    ")\n",
    "X_sc_train = pd.concat(\n",
    "    [pd.read_pickle(file).loc[:, sc_bulk_intersection_genes] for file in grouped_files['Train']['pseudo']]\n",
    ")"
   ]
  },
  {
   "cell_type": "markdown",
   "metadata": {},
   "source": [
    "### Concatenate X, Y and Encode Metadata"
   ]
  },
  {
   "cell_type": "code",
   "execution_count": 13,
   "metadata": {},
   "outputs": [],
   "source": [
    "# Generate place holder for bulk proportion (not used)\n",
    "Y_bulk_dummy = pd.DataFrame(\n",
    "    np.zeros((X_bulk_train.shape[0], Y_sc_train.shape[1])),\n",
    "    columns=Y_sc_train.columns\n",
    ")\n",
    "\n",
    "X_concat = pd.concat([X_bulk_train, X_sc_train])\n",
    "Y_concat = pd.concat([Y_bulk_dummy, Y_sc_train])\n",
    "meta_concat = pd.concat([meta_bulk_train, meta_sc_train])\n",
    "\n",
    "# save gene and cell type names\n",
    "X_gene_names = X_concat.columns.to_list()\n",
    "Y_cell_type_names = Y_concat.columns.to_list()\n",
    "\n",
    "# to numpy matrix\n",
    "X = X_concat.to_numpy()\n",
    "X = (X.T / X.sum(axis=1)).T * 1e4 # libsize normalization\n",
    "\n",
    "Y = Y_concat.to_numpy()"
   ]
  },
  {
   "cell_type": "code",
   "execution_count": 14,
   "metadata": {},
   "outputs": [
    {
     "data": {
      "image/png": "[encoded data removed]",
      "text/plain": [
       "<Figure size 640x480 with 1 Axes>"
      ]
     },
     "metadata": {},
     "output_type": "display_data"
    }
   ],
   "source": [
    "## get the top variable genes\n",
    "X_colmean = X.mean(axis=0) # mean across samples\n",
    "X_colvar = X.var(axis=0) # variance across samples\n",
    "# coefficient of variation which is the var to mean ratio\n",
    "X_CoV = np.array(np.divide(X_colvar, X_colmean+0.001)) \n",
    "\n",
    "# need to get the genes such that\n",
    "# the union of the highly variable and the\n",
    "# CIBERSORTx genes are 7000 total\n",
    "num_genes_found = False\n",
    "\n",
    "gene_df = pd.DataFrame(X_gene_names, columns=['gene'])\n",
    "\n",
    "# start with top 7000 genes by CoV\n",
    "initial_count = 7000\n",
    "while not num_genes_found:\n",
    "    # retrieve the top initial_count genes by CoV\n",
    "    idx_top = np.argpartition(X_CoV, -initial_count)[-initial_count:]\n",
    "    # get gene names from idx_top\n",
    "    top_gene_df = gene_df.iloc[idx_top]\n",
    "\n",
    "    # produce the union of the top genes and the cibersort genes\n",
    "    CoV_only = np.union1d(top_gene_df, cibersortx_sig_genes)\n",
    "\n",
    "    # check if the union is 7000\n",
    "    if len(CoV_only) == 7000:\n",
    "        num_genes_found = True\n",
    "    else:\n",
    "        # if not decrement the top CoV gene to retrieve by 1\n",
    "        # in the next iteration, there will be two possibilities\n",
    "        # 1. the union will have one less gene due to the removed gene being only in the CoV genes\n",
    "        # 2. the union will have the same number of genes as this iteration due to the removed \n",
    "        #    gene being also present in CIBERSORTx genes\n",
    "        # keep running this loop until the union has 7000 genes\n",
    "        initial_count = initial_count -1\n",
    "\n",
    "idx_top = np.argpartition(X_CoV, -initial_count)[-initial_count:] # num_genes to get 7000\n",
    "gene_df = gene_df.iloc[idx_top]\n",
    "venn2([set(gene_df.values.flatten()), \n",
    "       set(cibersortx_sig_genes)], \n",
    "       set_labels = ('Top CoV Genes', 'Cibersort Genes'))\n",
    "plt.show()\n",
    "\n",
    "feature_select_genes = np.union1d(gene_df, cibersortx_sig_genes)\n",
    "X = X[:, np.isin(X_gene_names, feature_select_genes)]"
   ]
  },
  {
   "cell_type": "code",
   "execution_count": 15,
   "metadata": {},
   "outputs": [],
   "source": [
    "FIELDS_TO_ENCODE = [SAMPLE_ID_COL, STIM_COL, 'samp_type']\n",
    "\n",
    "encoded = {}\n",
    "\n",
    "for field in FIELDS_TO_ENCODE:\n",
    "    encoder = OneHotEncoder(dtype=int)\n",
    "    encoded[field] = pd.DataFrame(\n",
    "        encoder.fit_transform(meta_concat.loc[:,[field]]).toarray(),\n",
    "        columns=encoder.get_feature_names_out([field])\n",
    "    )"
   ]
  },
  {
   "cell_type": "markdown",
   "metadata": {},
   "source": [
    "### Final normalization"
   ]
  },
  {
   "cell_type": "code",
   "execution_count": 16,
   "metadata": {},
   "outputs": [],
   "source": [
    "## normalize within sample\n",
    "clip_upper = np.quantile(X, 0.9)\n",
    "X_full = np.clip(X, 0, clip_upper)\n",
    "scaler = MinMaxScaler()\n",
    "scaler.fit(X_full)\n",
    "\n",
    "# now normalize with the scaler trained on the \n",
    "# training data\n",
    "X_full = np.clip(X_full, 0, clip_upper)\n",
    "X_full = scaler.transform(X_full)"
   ]
  },
  {
   "cell_type": "code",
   "execution_count": 17,
   "metadata": {},
   "outputs": [],
   "source": [
    "idx_train = np.where(meta_concat.isTraining==\"Train\")[0] \n",
    "idx_bulk = np.where(meta_concat.samp_type == \"bulk\")[0]\n",
    "\n",
    "# for unknown proportions; \n",
    "# this is bulks used in training\n",
    "idx_bulk_train = np.intersect1d(idx_bulk, idx_train) "
   ]
  },
  {
   "cell_type": "code",
   "execution_count": 18,
   "metadata": {},
   "outputs": [],
   "source": [
    "idx_train = np.where(meta_concat.isTraining==\"Train\")[0] \n",
    "idx_bulk = np.where(meta_concat.samp_type == \"bulk\")[0]\n",
    "idx_sc = np.where(meta_concat.samp_type != \"bulk\")[0]\n",
    "\n",
    "# for unknown proportions; \n",
    "# this is bulks used in training\n",
    "idx_bulk_train = np.intersect1d(idx_bulk, idx_train) \n",
    "X_unkp = X_full[idx_bulk_train,]\n",
    "label_unkp = encoded['sample_id'].values[idx_bulk_train,]\n",
    "drug_unkp = encoded['stim'].values[idx_bulk_train,]\n",
    "bulk_unkp = encoded['samp_type'].values[idx_bulk_train,]\n",
    "y_unkp = Y[idx_bulk_train,]\n",
    "\n",
    "# for known proportions\n",
    "idx_sc_train = np.intersect1d(idx_sc, idx_train) \n",
    "X_kp = X_full[idx_sc_train,]\n",
    "label_kp = encoded['sample_id'].values[idx_sc_train,]\n",
    "drug_kp = encoded['stim'].values[idx_sc_train,]\n",
    "bulk_kp = encoded['samp_type'].values[idx_sc_train,]\n",
    "y_kp = Y[idx_sc_train,]"
   ]
  },
  {
   "cell_type": "markdown",
   "metadata": {},
   "source": [
    "# Plot all data"
   ]
  },
  {
   "cell_type": "markdown",
   "metadata": {},
   "source": [
    "In the plot below, we plot the pseudobulk and real bulk data. Each plot will have a different coloration in order to highlight the different confounders present in the data.\n",
    "In the first plot, it is colored by sample ID, but since there are >500 real bulk samples, we hide the legend.\n",
    "The final plot is colored by the cell-type that has the highest proportion in the pseudobulk. \n",
    "For the bulk data, this is a random cell-type."
   ]
  },
  {
   "cell_type": "code",
   "execution_count": 19,
   "metadata": {},
   "outputs": [],
   "source": [
    "# from sklearn.manifold import TSNE\n",
    "# def get_tsne_for_plotting(encodings):\n",
    "#     tsne = TSNE(n_components=2, verbose=1, perplexity=20, n_iter=500)\n",
    "#     tsne_results = tsne.fit_transform(encodings)\n",
    "\n",
    "#     plot_df = pd.DataFrame(tsne_results[:,0:2])\n",
    "#     print(tsne_results.shape)\n",
    "#     print(plot_df.shape)\n",
    "#     plot_df.columns = ['tsne_0', 'tsne_1']\n",
    "#     return plot_df\n",
    "\n",
    "# def plot_tsne(plot_df, color_vec, ax, title=\"\", alpha=0.1, legend_title=\"Y\"):\n",
    "\n",
    "#     plot_df[legend_title] = color_vec\n",
    "\n",
    "#     g = sns.scatterplot(\n",
    "#         x=\"tsne_0\", y=\"tsne_1\",\n",
    "#         data=plot_df,\n",
    "#         hue=legend_title,\n",
    "#         palette=sns.color_palette(\"hls\", len(np.unique(color_vec))),\n",
    "#         legend=\"full\",\n",
    "#         alpha=alpha, ax= ax\n",
    "#     )\n",
    "\n",
    "#     ax.set_title(title)\n",
    "#     sns.move_legend(ax, \"upper left\", bbox_to_anchor=(1, 1))\n",
    "\n",
    "#     return g\n",
    "\n",
    "# ## plot samples\n",
    "# plot_df = get_tsne_for_plotting(X_full)\n",
    "\n",
    "# fig, axs = plt.subplots(2, 3, figsize=(30,15))\n",
    "\n",
    "# Y_temp = np.copy(Y)\n",
    "# Y_temp = np.argmax(Y_temp, axis=1) \n",
    "\n",
    "# plot_tsne(plot_df, meta_concat.sample_id.to_numpy(), axs[0,0], title=f\"\")\n",
    "# plot_tsne(plot_df, meta_concat.stim.to_numpy(), axs[0,1], title=f\"\")\n",
    "# plot_tsne(plot_df, meta_concat.isTraining.to_numpy(), axs[0,2], title=f\"\")\n",
    "# plot_tsne(plot_df, meta_concat.cell_prop_type.to_numpy(), axs[1,0], title=f\"\")\n",
    "# plot_tsne(plot_df, meta_concat.samp_type.to_numpy(), axs[1,1], title=f\"\")\n",
    "# plot_tsne(plot_df, Y_temp, axs[1,2], title=f\"\")\n",
    "\n",
    "\n",
    "# fig.suptitle(\"All Data, normalized using training data\", fontsize=14)\n",
    "\n",
    "# axs[0,0].legend([],[], frameon=False)\n",
    "\n",
    "# fig.show()"
   ]
  },
  {
   "cell_type": "markdown",
   "metadata": {},
   "source": [
    "## Prototyping Training"
   ]
  },
  {
   "cell_type": "code",
   "execution_count": 20,
   "metadata": {},
   "outputs": [],
   "source": [
    "import os\n",
    "os.environ[\"CUDA_VISIBLE_DEVICES\"] = \"-1\"  # Disable GPU\n",
    "import tensorflow as tf"
   ]
  },
  {
   "cell_type": "code",
   "execution_count": 21,
   "metadata": {},
   "outputs": [],
   "source": [
    "n_x = X_full.shape[1]\n",
    "n_y = Y.shape[1]\n",
    "n_labels = encoded['sample_id'].shape[1]\n",
    "n_stims = encoded['stim'].shape[1]\n",
    "n_samp_types = encoded['samp_type'].shape[1]"
   ]
  },
  {
   "cell_type": "code",
   "execution_count": null,
   "metadata": {},
   "outputs": [
    {
     "name": "stderr",
     "output_type": "stream",
     "text": [
      "2025-03-18 15:24:24.695464: E tensorflow/compiler/xla/stream_executor/cuda/cuda_driver.cc:268] failed call to cuInit: CUDA_ERROR_NO_DEVICE: no CUDA-capable device is detected\n",
      "2025-03-18 15:24:24.695485: I tensorflow/compiler/xla/stream_executor/cuda/cuda_diagnostics.cc:168] retrieving CUDA diagnostic information for host: pop-os\n",
      "2025-03-18 15:24:24.695489: I tensorflow/compiler/xla/stream_executor/cuda/cuda_diagnostics.cc:175] hostname: pop-os\n",
      "2025-03-18 15:24:24.695574: I tensorflow/compiler/xla/stream_executor/cuda/cuda_diagnostics.cc:199] libcuda reported version is: 570.124.4\n",
      "2025-03-18 15:24:24.695587: I tensorflow/compiler/xla/stream_executor/cuda/cuda_diagnostics.cc:203] kernel reported version is: 570.124.4\n",
      "2025-03-18 15:24:24.695590: I tensorflow/compiler/xla/stream_executor/cuda/cuda_diagnostics.cc:309] kernel version seems to match DSO: 570.124.4\n"
     ]
    }
   ],
   "source": [
    "from prototype_buddi import build_buddi\n",
    "from prototype_buddi_dataset import *"
   ]
  },
  {
   "cell_type": "code",
   "execution_count": 23,
   "metadata": {},
   "outputs": [],
   "source": [
    "supervised_buddi, unsupervised_buddi = build_buddi(\n",
    "    n_x=n_x,\n",
    "    n_y=n_y,\n",
    "    n_labels=n_labels,\n",
    "    n_stims=n_stims,\n",
    "    n_samp_types=n_samp_types,\n",
    ")"
   ]
  },
  {
   "cell_type": "code",
   "execution_count": 25,
   "metadata": {},
   "outputs": [],
   "source": [
    "batch_size = 16\n",
    "dataset_supervised = tf.data.Dataset.from_generator(\n",
    "    lambda: dataset_generator(X_kp, y_kp, label_kp, drug_kp, bulk_kp),\n",
    "    output_signature=get_output_signature(X_kp, y_kp, label_kp, drug_kp, bulk_kp)\n",
    ").batch(batch_size)\n",
    "\n",
    "dataset_unsupervised = tf.data.Dataset.from_generator(\n",
    "    lambda: dataset_generator_unsupervised(X_unkp, label_unkp, drug_unkp, bulk_unkp),\n",
    "    output_signature=get_output_signature_unsupervised(X_unkp, label_unkp, drug_unkp, bulk_unkp)\n",
    ").batch(batch_size)"
   ]
  },
  {
   "cell_type": "code",
   "execution_count": 27,
   "metadata": {},
   "outputs": [
    {
     "name": "stdout",
     "output_type": "stream",
     "text": [
      "Debug Dataset\n",
      "Input batch shapes: [TensorShape([16, 6866]), TensorShape([16, 11])]\n",
      "Output batch shapes: [TensorShape([16, 6866]), TensorShape([16, 1]), TensorShape([16, 1]), TensorShape([16, 1]), TensorShape([16, 1]), TensorShape([16, 593]), TensorShape([16, 2]), TensorShape([16, 2]), TensorShape([16, 11])]\n",
      "Debug Model Forward Pass\n",
      "Model output shapes: [TensorShape([16, 6866]), TensorShape([16, 128]), TensorShape([16, 128]), TensorShape([16, 128]), TensorShape([16, 128]), TensorShape([16, 593]), TensorShape([16, 2]), TensorShape([16, 2]), TensorShape([16, 11])]\n"
     ]
    }
   ],
   "source": [
    "print(\"Debug Dataset\")\n",
    "for batch in dataset_supervised.take(1):\n",
    "    x, y = batch\n",
    "    print(\"Input batch shapes:\", [xi.shape for xi in x])\n",
    "    print(\"Output batch shapes:\", [yi.shape for yi in y])\n",
    "    break\n",
    "\n",
    "print(\"Debug Model Forward Pass\")\n",
    "for batch in dataset_supervised.take(1):\n",
    "    x, _ = batch\n",
    "    y_pred = supervised_buddi(x)\n",
    "    print(\"Model output shapes:\", [yp.shape for yp in y_pred])\n",
    "    break\n"
   ]
  },
  {
   "cell_type": "code",
   "execution_count": 28,
   "metadata": {},
   "outputs": [
    {
     "name": "stdout",
     "output_type": "stream",
     "text": [
      "Debug Dataset\n",
      "Input batch shapes: [TensorShape([6866]), TensorShape([6866]), TensorShape([6866]), TensorShape([6866]), TensorShape([6866]), TensorShape([6866]), TensorShape([6866]), TensorShape([6866]), TensorShape([6866]), TensorShape([6866]), TensorShape([6866]), TensorShape([6866]), TensorShape([6866]), TensorShape([6866]), TensorShape([6866]), TensorShape([6866])]\n",
      "Output batch shapes: [TensorShape([16, 6866]), TensorShape([16, 1]), TensorShape([16, 1]), TensorShape([16, 1]), TensorShape([16, 1]), TensorShape([16, 593]), TensorShape([16, 2]), TensorShape([16, 2]), TensorShape([16, 1])]\n",
      "Debug Model Forward Pass\n",
      "Model output shapes: [TensorShape([16, 6866]), TensorShape([16, 128]), TensorShape([16, 128]), TensorShape([16, 128]), TensorShape([16, 128]), TensorShape([16, 593]), TensorShape([16, 2]), TensorShape([16, 2]), TensorShape([16, 11])]\n"
     ]
    }
   ],
   "source": [
    "print(\"Debug Dataset\")\n",
    "for batch in dataset_unsupervised.take(1):\n",
    "    x, y = batch\n",
    "    print(\"Input batch shapes:\", [xi.shape for xi in x])\n",
    "    print(\"Output batch shapes:\", [yi.shape for yi in y])\n",
    "    break\n",
    "\n",
    "print(\"Debug Model Forward Pass\")\n",
    "for batch in dataset_unsupervised.take(1):\n",
    "    x, _ = batch\n",
    "    y_pred = unsupervised_buddi(x)\n",
    "    print(\"Model output shapes:\", [yp.shape for yp in y_pred])\n",
    "    break\n"
   ]
  },
  {
   "cell_type": "code",
   "execution_count": 29,
   "metadata": {},
   "outputs": [],
   "source": [
    "count = 0\n",
    "for batch in dataset_supervised:\n",
    "    x, y = batch\n",
    "    try:\n",
    "        loss = supervised_buddi.train_on_batch(x, y)\n",
    "    except Exception as e:\n",
    "        print(f\"Error on batch {count}: {e}\")\n",
    "        break\n",
    "    count += 1"
   ]
  },
  {
   "cell_type": "code",
   "execution_count": 30,
   "metadata": {},
   "outputs": [],
   "source": [
    "count = 0\n",
    "for batch in dataset_unsupervised:\n",
    "    x, y = batch\n",
    "    try:\n",
    "        loss = unsupervised_buddi.train_on_batch(x, y)\n",
    "    except Exception as e:\n",
    "        print(f\"Error on batch {count}: {e}\")\n",
    "        break\n",
    "    count += 1"
   ]
  },
  {
   "cell_type": "code",
   "execution_count": null,
   "metadata": {},
   "outputs": [],
   "source": [
    "max_epochs = 50\n",
    "for epoch in max_epochs:\n",
    "    _log1 = supervised_buddi.fit(dataset_supervised, epochs=1)\n",
    "    _log2 = unsupervised_buddi.fit(dataset_unsupervised, epochs=1)\n",
    "    "
   ]
  },
  {
   "cell_type": "code",
   "execution_count": 31,
   "metadata": {},
   "outputs": [
    {
     "name": "stdout",
     "output_type": "stream",
     "text": [
      "657/657 [==============================] - 25s 38ms/step - loss: 3.1757 - supervised_X_decoder_loss: 0.3213 - encoder_label_loss: 0.0019 - encoder_stim_loss: 0.0052 - encoder_samp_type_loss: 0.0023 - encoder_slack_loss: 1.7668e-04 - classifier_label_loss: 0.0466 - classifier_stim_loss: 0.0800 - classifier_samp_type_loss: 0.0704 - prop_estimator_loss: 2.6478\n"
     ]
    },
    {
     "data": {
      "text/plain": [
       "{'loss': [3.1757194995880127],\n",
       " 'supervised_X_decoder_loss': [0.32134729623794556],\n",
       " 'encoder_label_loss': [0.0019284529844298959],\n",
       " 'encoder_stim_loss': [0.005162372253835201],\n",
       " 'encoder_samp_type_loss': [0.002279707696288824],\n",
       " 'encoder_slack_loss': [0.0001766847854014486],\n",
       " 'classifier_label_loss': [0.04660245031118393],\n",
       " 'classifier_stim_loss': [0.08001802116632462],\n",
       " 'classifier_samp_type_loss': [0.0703914538025856],\n",
       " 'prop_estimator_loss': [2.647812604904175]}"
      ]
     },
     "execution_count": 31,
     "metadata": {},
     "output_type": "execute_result"
    }
   ],
   "source": [
    "log = supervised_buddi.fit(dataset_supervised, epochs=1)\n",
    "log.history"
   ]
  },
  {
   "cell_type": "code",
   "execution_count": 32,
   "metadata": {},
   "outputs": [
    {
     "name": "stdout",
     "output_type": "stream",
     "text": [
      "37/37 [==============================] - 2s 42ms/step - loss: 25.1285 - unsupervised_X_decoder_loss: 1.7807 - encoder_label_loss: 0.0034 - encoder_stim_loss: 0.0000e+00 - encoder_samp_type_loss: 0.0000e+00 - encoder_slack_loss: 0.0011 - classifier_label_loss: 0.0537 - classifier_stim_loss: 7.4086 - classifier_samp_type_loss: 15.8810 - prop_estimator_loss: 0.0000e+00\n"
     ]
    },
    {
     "data": {
      "text/plain": [
       "{'loss': [25.128488540649414],\n",
       " 'unsupervised_X_decoder_loss': [1.7807127237319946],\n",
       " 'encoder_label_loss': [0.003404398448765278],\n",
       " 'encoder_stim_loss': [0.0],\n",
       " 'encoder_samp_type_loss': [0.0],\n",
       " 'encoder_slack_loss': [0.0011082435958087444],\n",
       " 'classifier_label_loss': [0.05368473380804062],\n",
       " 'classifier_stim_loss': [7.40858268737793],\n",
       " 'classifier_samp_type_loss': [15.880995750427246],\n",
       " 'prop_estimator_loss': [0.0]}"
      ]
     },
     "execution_count": 32,
     "metadata": {},
     "output_type": "execute_result"
    }
   ],
   "source": [
    "log_unsup = unsupervised_buddi.fit(dataset_unsupervised, epochs=1)\n",
    "log_unsup.history"
   ]
  }
 ],
 "metadata": {
  "kernelspec": {
   "display_name": "tf_gpu_scanpy_env",
   "language": "python",
   "name": "python3"
  },
  "language_info": {
   "codemirror_mode": {
    "name": "ipython",
    "version": 3
   },
   "file_extension": ".py",
   "mimetype": "text/x-python",
   "name": "python",
   "nbconvert_exporter": "python",
   "pygments_lexer": "ipython3",
   "version": "3.10.16"
  }
 },
 "nbformat": 4,
 "nbformat_minor": 2
}
