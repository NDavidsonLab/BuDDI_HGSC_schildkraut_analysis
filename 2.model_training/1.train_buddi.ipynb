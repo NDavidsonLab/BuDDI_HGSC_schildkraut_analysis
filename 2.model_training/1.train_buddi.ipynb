{
 "cells": [
  {
   "cell_type": "code",
   "execution_count": null,
   "metadata": {},
   "outputs": [],
   "source": [
    "import gc\n",
    "import joblib\n",
    "import sys\n",
    "import pathlib\n",
    "import yaml\n",
    "import subprocess\n",
    "import re\n",
    "from collections import defaultdict\n",
    "\n",
    "import numpy as np\n",
    "import pandas as pd\n",
    "import scanpy as sc\n",
    "import anndata as ad\n",
    "import umap.umap_ as umap\n",
    "from sklearn.decomposition import PCA\n",
    "import matplotlib.pyplot as plt\n",
    "from sklearn.preprocessing import OneHotEncoder, MinMaxScaler\n",
    "from matplotlib_venn import venn2, venn3\n",
    "import seaborn as sns\n",
    "import tensorflow as tf\n",
    "from tensorflow.keras.utils import plot_model\n",
    "\n",
    "from buddi_data import BuDDIData"
   ]
  },
  {
   "cell_type": "code",
   "execution_count": null,
   "metadata": {},
   "outputs": [],
   "source": [
    "CELL_TYPE_COL = 'encode_celltype'\n",
    "SAMPLE_ID_COL = 'sample_id'\n",
    "STIM_COL = 'stim'\n",
    "TECH_COL = 'samp_type'\n",
    "DATASPLIT_COL = 'isTraining'\n",
    "\n",
    "GENE_ID_COL = 'gene_ids'"
   ]
  },
  {
   "cell_type": "code",
   "execution_count": null,
   "metadata": {},
   "outputs": [],
   "source": [
    "# Get the root directory of the analysis repository\n",
    "REPO_ROOT = subprocess.run(\n",
    "    [\"git\", \"rev-parse\", \"--show-toplevel\"], capture_output=True, text=True\n",
    ").stdout.strip()\n",
    "REPO_ROOT = pathlib.Path(REPO_ROOT)\n",
    "\n",
    "CONFIG_FILE = REPO_ROOT / 'config.yml'\n",
    "assert CONFIG_FILE.exists(), f\"Config file not found at {CONFIG_FILE}\"\n",
    "\n",
    "with open(CONFIG_FILE, 'r') as file:\n",
    "    config_dict = yaml.safe_load(file)"
   ]
  },
  {
   "cell_type": "code",
   "execution_count": null,
   "metadata": {},
   "outputs": [],
   "source": [
    "buddi_fork_path = config_dict['software_path']['buddi_HGSC']\n",
    "buddi_fork_path = pathlib.Path(buddi_fork_path)\n",
    "assert buddi_fork_path.exists(), f\"buddi fork not found at {buddi_fork_path}\"\n",
    "\n",
    "sys.path.insert(0, str(buddi_fork_path))\n",
    "# this is quite ugly, once activate modifications are done this will be changed\n",
    "# to a proper installation + import\n",
    "from buddi.models.buddi4 import build_buddi4, fit_buddi4_v2\n",
    "# from prototype_buddi_dataset import *\n",
    "from buddi.dataset.dataset import get_dataset\n",
    "from buddi.dataset.utils import train_validation_split\n",
    "from buddi.plotting.plot_latent_space import plot_latent_spaces_buddi4"
   ]
  },
  {
   "cell_type": "markdown",
   "metadata": {},
   "source": [
    "### Train model weight output"
   ]
  },
  {
   "cell_type": "code",
   "execution_count": null,
   "metadata": {},
   "outputs": [],
   "source": [
    "TRAINED_MODELS_PATH = REPO_ROOT / 'trained_models'\n",
    "TRAINED_MODELS_PATH.mkdir(exist_ok=True)\n",
    "TRAIN_PLOT_PATH = TRAINED_MODELS_PATH / 'train_plots'\n",
    "TRAIN_PLOT_PATH.mkdir(exist_ok=True)"
   ]
  },
  {
   "cell_type": "code",
   "execution_count": null,
   "metadata": {},
   "outputs": [],
   "source": [
    "train_data = joblib.load(\"train_data.pkl\")"
   ]
  },
  {
   "cell_type": "markdown",
   "metadata": {},
   "source": [
    "## Training"
   ]
  },
  {
   "cell_type": "code",
   "execution_count": null,
   "metadata": {},
   "outputs": [],
   "source": [
    "n_x = len(train_data.gene_names)\n",
    "n_y = len(train_data.cell_type_names)\n",
    "n_labels = train_data.encode_meta[SAMPLE_ID_COL].shape[1]\n",
    "n_stims = train_data.encode_meta[STIM_COL].shape[1]\n",
    "n_samp_types = train_data.encode_meta[TECH_COL].shape[1]"
   ]
  },
  {
   "cell_type": "code",
   "execution_count": null,
   "metadata": {},
   "outputs": [],
   "source": [
    "ds_sup = get_dataset(\n",
    "    input_tuple_order = ['X', 'Y_prop'],\n",
    "    output_tuple_order = ['X', 'z_label', 'z_stim', 'z_samp_type', 'z_slack', 'label', 'stim', 'samp_type', 'Y_prop'],\n",
    "    X = train_data.X_kp,\n",
    "    Y_prop = train_data.y_kp,\n",
    "    label = train_data.label_kp,\n",
    "    stim = train_data.drug_kp,\n",
    "    samp_type = train_data.bulk_kp,\n",
    ")\n",
    "print(ds_sup.cardinality().numpy())\n",
    "\n",
    "ds_unsup = get_dataset(\n",
    "    input_tuple_order = ['X'],\n",
    "    output_tuple_order = ['X', 'z_label', 'z_stim', 'z_samp_type', 'z_slack', 'label', 'stim', 'samp_type', 'Y_dummy'],\n",
    "    X = train_data.X_unkp,\n",
    "    label = train_data.label_unkp,\n",
    "    stim = train_data.drug_unkp,\n",
    "    samp_type = train_data.bulk_unkp,\n",
    ")\n",
    "print(ds_unsup.cardinality().numpy())"
   ]
  },
  {
   "cell_type": "code",
   "execution_count": null,
   "metadata": {},
   "outputs": [],
   "source": [
    "from tensorflow.keras.losses import CategoricalCrossentropy, MeanSquaredError\n",
    "from tensorflow.keras.optimizers import Adam\n",
    "from tensorflow.keras import backend as K\n",
    "from buddi_visualize_train import plot_train_loss, plot_buddi4_latent_space\n",
    "\n",
    "\n",
    "# betas = [1.0, 10.0, 20.0, 50.0] #100.0]\n",
    "betas = [20.0, 50.0] #100.0]\n",
    "\n",
    "for beta in betas:\n",
    "\n",
    "    model_str = f\"buddi4_beta_{beta}\"\n",
    "    \n",
    "    optimizer = Adam(learning_rate=0.0005)\n",
    "    supervised_buddi, unsupervised_buddi = build_buddi4(\n",
    "            n_x=n_x,\n",
    "            n_y=n_y,\n",
    "            n_labels=n_labels,\n",
    "            n_stims=n_stims,\n",
    "            n_samp_types=n_samp_types,\n",
    "            reconstr_loss_fn = MeanSquaredError, \n",
    "            classifier_loss_fn = CategoricalCrossentropy, \n",
    "            # Default loss weights\n",
    "            alpha_x = 1.0,\n",
    "            alpha_label = 100.0,\n",
    "            alpha_stim = 100.0,\n",
    "            alpha_samp_type = 100.0,\n",
    "            alpha_prop = 100.0,\n",
    "            beta_kl_slack = 0.1,\n",
    "            beta_kl_label = beta,\n",
    "            beta_kl_stim = beta,\n",
    "            beta_kl_samp_type = beta,\n",
    "            optimizer=optimizer,\n",
    "        )\n",
    "\n",
    "    all_loss_df = fit_buddi4_v2(\n",
    "                supervised_buddi, unsupervised_buddi, \n",
    "                ds_sup, ds_unsup, \n",
    "                epochs=5, batch_size=16, prefetch=True\n",
    "            )\n",
    "    \n",
    "    plot_train_loss(\n",
    "        all_loss_df,\n",
    "        show_plot=False,\n",
    "        save_path=TRAIN_PLOT_PATH / f\"{model_str}_loss.png\")\n",
    "    \n",
    "    _ = plot_buddi4_latent_space(\n",
    "        unsupervised_buddi,\n",
    "        train_data,\n",
    "        type='PCA',\n",
    "        palette='tab20',\n",
    "        show_plot=False,\n",
    "        save_path=TRAIN_PLOT_PATH / f\"{model_str}_latent_space_PCA.png\"\n",
    "    )\n",
    "\n",
    "    _ = plot_buddi4_latent_space(\n",
    "        unsupervised_buddi,\n",
    "        train_data,\n",
    "        type='UMAP',\n",
    "        palette='tab20',\n",
    "        show_plot=False,\n",
    "        save_path=TRAIN_PLOT_PATH / f\"{model_str}_latent_space_UMAP.png\"\n",
    "    )\n",
    "\n",
    "    supervised_buddi.save(\n",
    "        TRAINED_MODELS_PATH / f\"{model_str}_supervised_model.keras\"\n",
    "    )\n",
    "    unsupervised_buddi.save(\n",
    "        TRAINED_MODELS_PATH / f\"{model_str}_unsupervised_model.keras\"\n",
    "    )\n",
    "\n",
    "    del supervised_buddi\n",
    "    del unsupervised_buddi\n",
    "    del optimizer\n",
    "    K.clear_session()\n",
    "    gc.collect()\n"
   ]
  }
 ],
 "metadata": {
  "kernelspec": {
   "display_name": "buddi_conda",
   "language": "python",
   "name": "python3"
  },
  "language_info": {
   "codemirror_mode": {
    "name": "ipython",
    "version": 3
   },
   "file_extension": ".py",
   "mimetype": "text/x-python",
   "name": "python",
   "nbconvert_exporter": "python",
   "pygments_lexer": "ipython3",
   "version": "3.9.21"
  }
 },
 "nbformat": 4,
 "nbformat_minor": 2
}
