{
 "cells": [
  {
   "cell_type": "code",
   "execution_count": null,
   "id": "515c0241",
   "metadata": {},
   "outputs": [
    {
     "name": "stderr",
     "output_type": "stream",
     "text": [
      "2025-04-11 14:40:28.694151: I tensorflow/core/util/port.cc:153] oneDNN custom operations are on. You may see slightly different numerical results due to floating-point round-off errors from different computation orders. To turn them off, set the environment variable `TF_ENABLE_ONEDNN_OPTS=0`.\n",
      "2025-04-11 14:40:28.703596: E external/local_xla/xla/stream_executor/cuda/cuda_fft.cc:467] Unable to register cuFFT factory: Attempting to register factory for plugin cuFFT when one has already been registered\n",
      "WARNING: All log messages before absl::InitializeLog() is called are written to STDERR\n",
      "E0000 00:00:1744404028.712751 2846567 cuda_dnn.cc:8579] Unable to register cuDNN factory: Attempting to register factory for plugin cuDNN when one has already been registered\n",
      "E0000 00:00:1744404028.715552 2846567 cuda_blas.cc:1407] Unable to register cuBLAS factory: Attempting to register factory for plugin cuBLAS when one has already been registered\n",
      "W0000 00:00:1744404028.723917 2846567 computation_placer.cc:177] computation placer already registered. Please check linkage and avoid linking the same target more than once.\n",
      "W0000 00:00:1744404028.723926 2846567 computation_placer.cc:177] computation placer already registered. Please check linkage and avoid linking the same target more than once.\n",
      "W0000 00:00:1744404028.723927 2846567 computation_placer.cc:177] computation placer already registered. Please check linkage and avoid linking the same target more than once.\n",
      "W0000 00:00:1744404028.723928 2846567 computation_placer.cc:177] computation placer already registered. Please check linkage and avoid linking the same target more than once.\n",
      "2025-04-11 14:40:28.726594: I tensorflow/core/platform/cpu_feature_guard.cc:210] This TensorFlow binary is optimized to use available CPU instructions in performance-critical operations.\n",
      "To enable the following instructions: AVX2 AVX512F AVX512_VNNI AVX512_BF16 FMA, in other operations, rebuild TensorFlow with the appropriate compiler flags.\n"
     ]
    }
   ],
   "source": [
    "import joblib\n",
    "import sys\n",
    "import pathlib\n",
    "import yaml\n",
    "import subprocess\n",
    "\n",
    "import numpy as np\n",
    "import tensorflow as tf\n",
    "from tensorflow.keras.losses import CategoricalCrossentropy, MeanSquaredError\n",
    "\n",
    "from buddi_data import BuDDIData"
   ]
  },
  {
   "cell_type": "code",
   "execution_count": 2,
   "id": "254d7804",
   "metadata": {},
   "outputs": [],
   "source": [
    "SAMPLE_ID_COL = 'sample_id'\n",
    "STIM_COL = 'stim'\n",
    "TECH_COL = 'samp_type'\n",
    "DATASPLIT_COL = 'isTraining'\n",
    "\n",
    "GENE_ID_COL = 'gene_ids'"
   ]
  },
  {
   "cell_type": "code",
   "execution_count": 3,
   "id": "045dabef",
   "metadata": {},
   "outputs": [],
   "source": [
    "# Get the root directory of the analysis repository\n",
    "REPO_ROOT = subprocess.run(\n",
    "    [\"git\", \"rev-parse\", \"--show-toplevel\"], capture_output=True, text=True\n",
    ").stdout.strip()\n",
    "REPO_ROOT = pathlib.Path(REPO_ROOT)\n",
    "\n",
    "CONFIG_FILE = REPO_ROOT / 'config.yml'\n",
    "assert CONFIG_FILE.exists(), f\"Config file not found at {CONFIG_FILE}\"\n",
    "\n",
    "with open(CONFIG_FILE, 'r') as file:\n",
    "    config_dict = yaml.safe_load(file)"
   ]
  },
  {
   "cell_type": "code",
   "execution_count": 4,
   "id": "2286f9e8",
   "metadata": {},
   "outputs": [
    {
     "name": "stderr",
     "output_type": "stream",
     "text": [
      "I0000 00:00:1744404029.807379 2846567 gpu_device.cc:2019] Created device /job:localhost/replica:0/task:0/device:GPU:0 with 4314 MB memory:  -> device: 0, name: NVIDIA GeForce RTX 2070 SUPER, pci bus id: 0000:01:00.0, compute capability: 7.5\n"
     ]
    }
   ],
   "source": [
    "buddi_fork_path = config_dict['software_path']['buddi_HGSC']\n",
    "buddi_fork_path = pathlib.Path(buddi_fork_path)\n",
    "assert buddi_fork_path.exists(), f\"buddi fork not found at {buddi_fork_path}\"\n",
    "\n",
    "sys.path.insert(0, str(buddi_fork_path))\n",
    "from buddi.models.buddi4 import build_buddi4\n",
    "from buddi.models.components.layers import ReparameterizationLayer"
   ]
  },
  {
   "cell_type": "markdown",
   "id": "34e64a3f",
   "metadata": {},
   "source": [
    "### Validation Output plot path"
   ]
  },
  {
   "cell_type": "code",
   "execution_count": 5,
   "id": "5d3792dc",
   "metadata": {},
   "outputs": [],
   "source": [
    "VALIDATION_OUTPUT = pathlib.Path('.').absolute() / 'validation_output'\n",
    "VALIDATION_OUTPUT.mkdir(exist_ok=True)"
   ]
  },
  {
   "cell_type": "markdown",
   "id": "b7cf3fa8",
   "metadata": {},
   "source": [
    "### Train model weight and data"
   ]
  },
  {
   "cell_type": "code",
   "execution_count": 6,
   "id": "1ecb1542",
   "metadata": {},
   "outputs": [],
   "source": [
    "TRAINED_MODELS_PATH = REPO_ROOT / 'trained_models'\n",
    "TRAIN_DATA_FILE = REPO_ROOT / 'processed_data' / 'train_data.pkl'"
   ]
  },
  {
   "cell_type": "markdown",
   "id": "02d012ec",
   "metadata": {},
   "source": [
    "### Data"
   ]
  },
  {
   "cell_type": "code",
   "execution_count": 7,
   "id": "7edf40cf",
   "metadata": {},
   "outputs": [],
   "source": [
    "train_data = joblib.load(TRAIN_DATA_FILE)\n",
    "\n",
    "n_x = len(train_data.gene_names)\n",
    "n_y = len(train_data.cell_type_names)\n",
    "n_labels = train_data.encode_meta[SAMPLE_ID_COL].shape[1]\n",
    "n_stims = train_data.encode_meta[STIM_COL].shape[1]\n",
    "n_samp_types = train_data.encode_meta[TECH_COL].shape[1]"
   ]
  },
  {
   "cell_type": "markdown",
   "id": "dc228937",
   "metadata": {},
   "source": [
    "## Validate"
   ]
  },
  {
   "cell_type": "code",
   "execution_count": 8,
   "id": "edf2da1f",
   "metadata": {},
   "outputs": [],
   "source": [
    "from validation.plot_validation import plot_perturb_cell_type\n",
    "\n",
    "from validation.utils import resample_z\n",
    "from validation.perturb_cell_type import perturb_cell_type"
   ]
  },
  {
   "cell_type": "code",
   "execution_count": 9,
   "id": "035e0460",
   "metadata": {},
   "outputs": [
    {
     "name": "stderr",
     "output_type": "stream",
     "text": [
      "/home/weishanli/anaconda3/envs/buddi_conda/lib/python3.9/site-packages/keras/src/saving/saving_lib.py:757: UserWarning: Skipping variable loading for optimizer 'adam', because it has 2 variables whereas the saved optimizer has 82 variables. \n",
      "  saveable.load_own_variables(weights_store.get(inner_path))\n",
      "/home/weishanli/anaconda3/envs/buddi_conda/lib/python3.9/site-packages/keras/src/models/functional.py:238: UserWarning: The structure of `inputs` doesn't match the expected structure.\n",
      "Expected: ['X']\n",
      "Received: inputs=Tensor(shape=(10500, 7000))\n",
      "  warnings.warn(msg)\n",
      "/home/weishanli/anaconda3/envs/buddi_conda/lib/python3.9/site-packages/keras/src/saving/saving_lib.py:757: UserWarning: Skipping variable loading for optimizer 'adam', because it has 2 variables whereas the saved optimizer has 82 variables. \n",
      "  saveable.load_own_variables(weights_store.get(inner_path))\n",
      "/home/weishanli/anaconda3/envs/buddi_conda/lib/python3.9/site-packages/keras/src/models/functional.py:238: UserWarning: The structure of `inputs` doesn't match the expected structure.\n",
      "Expected: ['X']\n",
      "Received: inputs=Tensor(shape=(10500, 7000))\n",
      "  warnings.warn(msg)\n",
      "/home/weishanli/anaconda3/envs/buddi_conda/lib/python3.9/site-packages/keras/src/saving/saving_lib.py:757: UserWarning: Skipping variable loading for optimizer 'adam', because it has 2 variables whereas the saved optimizer has 82 variables. \n",
      "  saveable.load_own_variables(weights_store.get(inner_path))\n",
      "/home/weishanli/anaconda3/envs/buddi_conda/lib/python3.9/site-packages/keras/src/models/functional.py:238: UserWarning: The structure of `inputs` doesn't match the expected structure.\n",
      "Expected: ['X']\n",
      "Received: inputs=Tensor(shape=(10500, 7000))\n",
      "  warnings.warn(msg)\n"
     ]
    }
   ],
   "source": [
    "supervised_buddi, unsupervised_buddi, supervised_decoder, unsupervised_decoder = build_buddi4(\n",
    "        n_x=n_x,\n",
    "        n_y=n_y,\n",
    "        n_labels=n_labels,\n",
    "        n_stims=n_stims,\n",
    "        n_samp_types=n_samp_types,\n",
    "        reconstr_loss_fn = MeanSquaredError, # the loss function does not matter unless training further\n",
    "        classifier_loss_fn = CategoricalCrossentropy, # the loss function does not matter unless training further\n",
    "        return_decoder = True\n",
    "    )\n",
    "\n",
    "model_type = 'buddi4'\n",
    "model_z_betas = ['1.0', '10.0', '50.0']\n",
    "\n",
    "for model_z_beta in model_z_betas:\n",
    "\n",
    "    model_string = f'{model_type}_beta_{model_z_beta}'\n",
    "    model_validation_plot_dir = VALIDATION_OUTPUT / model_string\n",
    "    model_validation_plot_dir.mkdir(exist_ok=True)\n",
    "\n",
    "    supervised_buddi.load_weights(\n",
    "        TRAINED_MODELS_PATH / f'{model_type}_beta_{model_z_beta}_supervised_model.keras'\n",
    "    )\n",
    "    unsupervised_buddi.load_weights(\n",
    "        TRAINED_MODELS_PATH / f'{model_type}_beta_{model_z_beta}_unsupervised_model.keras'\n",
    "    )\n",
    "\n",
    "    # Forward Pass To Obtain Latent Space of the Pseudobulks\n",
    "    x_kp = train_data.X_kp\n",
    "    y_kp = train_data.y_kp\n",
    "    meta_kp = train_data.meta_kp\n",
    "\n",
    "    pred = unsupervised_buddi((x_kp))\n",
    "    x_reconst, z_label, z_stim, z_samp_type, z_slack, _, _, _, y_hat = pred\n",
    "\n",
    "    # Cell Proportion Perturbation\n",
    "    all_cell_types = list(meta_kp['cell_type'].unique())\n",
    "    all_cell_types.remove('random')\n",
    "\n",
    "    resampled_z = resample_z(\n",
    "        [z_label, z_stim, z_samp_type, z_slack],\n",
    "        ReparameterizationLayer())\n",
    "\n",
    "    sample_idx = np.where(\n",
    "        meta_kp[SAMPLE_ID_COL] == 'Samp-T89'\n",
    "    )[0]\n",
    "\n",
    "    x_perturb, meta_perturb = perturb_cell_type(\n",
    "        supervised_decoder,\n",
    "        resampled_z,\n",
    "        y_kp,\n",
    "        meta_kp,\n",
    "        idx=sample_idx,\n",
    "        all_cell_types=all_cell_types,\n",
    "        n_subsamples=200\n",
    "    )\n",
    "\n",
    "    plot_perturb_cell_type(\n",
    "        x_basis=x_reconst.numpy()[sample_idx,:],\n",
    "        meta_basis=meta_kp.iloc[sample_idx],\n",
    "        x_reconst_perturb=x_perturb,\n",
    "        meta_perturb=meta_perturb,\n",
    "        show_plot=False,\n",
    "        save_path=str(model_validation_plot_dir),\n",
    "    )"
   ]
  }
 ],
 "metadata": {
  "kernelspec": {
   "display_name": "buddi_conda",
   "language": "python",
   "name": "python3"
  },
  "language_info": {
   "codemirror_mode": {
    "name": "ipython",
    "version": 3
   },
   "file_extension": ".py",
   "mimetype": "text/x-python",
   "name": "python",
   "nbconvert_exporter": "python",
   "pygments_lexer": "ipython3",
   "version": "3.9.21"
  }
 },
 "nbformat": 4,
 "nbformat_minor": 5
}
