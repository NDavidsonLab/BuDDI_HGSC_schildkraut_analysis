{
 "cells": [
  {
   "cell_type": "code",
   "execution_count": 1,
   "id": "515c0241",
   "metadata": {},
   "outputs": [
    {
     "name": "stderr",
     "output_type": "stream",
     "text": [
      "2025-04-14 13:53:46.194112: I tensorflow/core/util/port.cc:153] oneDNN custom operations are on. You may see slightly different numerical results due to floating-point round-off errors from different computation orders. To turn them off, set the environment variable `TF_ENABLE_ONEDNN_OPTS=0`.\n",
      "2025-04-14 13:53:46.203009: E external/local_xla/xla/stream_executor/cuda/cuda_fft.cc:467] Unable to register cuFFT factory: Attempting to register factory for plugin cuFFT when one has already been registered\n",
      "WARNING: All log messages before absl::InitializeLog() is called are written to STDERR\n",
      "E0000 00:00:1744660426.212162  136857 cuda_dnn.cc:8579] Unable to register cuDNN factory: Attempting to register factory for plugin cuDNN when one has already been registered\n",
      "E0000 00:00:1744660426.214940  136857 cuda_blas.cc:1407] Unable to register cuBLAS factory: Attempting to register factory for plugin cuBLAS when one has already been registered\n",
      "W0000 00:00:1744660426.222971  136857 computation_placer.cc:177] computation placer already registered. Please check linkage and avoid linking the same target more than once.\n",
      "W0000 00:00:1744660426.222982  136857 computation_placer.cc:177] computation placer already registered. Please check linkage and avoid linking the same target more than once.\n",
      "W0000 00:00:1744660426.222983  136857 computation_placer.cc:177] computation placer already registered. Please check linkage and avoid linking the same target more than once.\n",
      "W0000 00:00:1744660426.222984  136857 computation_placer.cc:177] computation placer already registered. Please check linkage and avoid linking the same target more than once.\n",
      "2025-04-14 13:53:46.225780: I tensorflow/core/platform/cpu_feature_guard.cc:210] This TensorFlow binary is optimized to use available CPU instructions in performance-critical operations.\n",
      "To enable the following instructions: AVX2 AVX512F AVX512_VNNI AVX512_BF16 FMA, in other operations, rebuild TensorFlow with the appropriate compiler flags.\n"
     ]
    }
   ],
   "source": [
    "import gc\n",
    "import joblib\n",
    "import sys\n",
    "import pathlib\n",
    "import yaml\n",
    "import subprocess\n",
    "import re\n",
    "from collections import defaultdict\n",
    "\n",
    "import numpy as np\n",
    "import pandas as pd\n",
    "import scanpy as sc\n",
    "import anndata as ad\n",
    "import umap.umap_ as umap\n",
    "from sklearn.decomposition import PCA\n",
    "import matplotlib.pyplot as plt\n",
    "from sklearn.preprocessing import OneHotEncoder, MinMaxScaler\n",
    "from matplotlib_venn import venn2, venn3\n",
    "import seaborn as sns\n",
    "import tensorflow as tf\n",
    "from tensorflow import keras\n",
    "from tensorflow.keras.losses import CategoricalCrossentropy, MeanSquaredError\n",
    "\n",
    "\n",
    "from buddi_data import BuDDIData"
   ]
  },
  {
   "cell_type": "code",
   "execution_count": 2,
   "id": "254d7804",
   "metadata": {},
   "outputs": [],
   "source": [
    "SAMPLE_ID_COL = 'sample_id'\n",
    "STIM_COL = 'stim'\n",
    "TECH_COL = 'samp_type'\n",
    "DATASPLIT_COL = 'isTraining'\n",
    "\n",
    "GENE_ID_COL = 'gene_ids'"
   ]
  },
  {
   "cell_type": "code",
   "execution_count": 3,
   "id": "045dabef",
   "metadata": {},
   "outputs": [],
   "source": [
    "# Get the root directory of the analysis repository\n",
    "REPO_ROOT = subprocess.run(\n",
    "    [\"git\", \"rev-parse\", \"--show-toplevel\"], capture_output=True, text=True\n",
    ").stdout.strip()\n",
    "REPO_ROOT = pathlib.Path(REPO_ROOT)\n",
    "\n",
    "CONFIG_FILE = REPO_ROOT / 'config.yml'\n",
    "assert CONFIG_FILE.exists(), f\"Config file not found at {CONFIG_FILE}\"\n",
    "\n",
    "with open(CONFIG_FILE, 'r') as file:\n",
    "    config_dict = yaml.safe_load(file)"
   ]
  },
  {
   "cell_type": "code",
   "execution_count": 4,
   "id": "2286f9e8",
   "metadata": {},
   "outputs": [
    {
     "name": "stderr",
     "output_type": "stream",
     "text": [
      "I0000 00:00:1744660427.293403  136857 gpu_device.cc:2019] Created device /job:localhost/replica:0/task:0/device:GPU:0 with 5758 MB memory:  -> device: 0, name: NVIDIA GeForce RTX 2070 SUPER, pci bus id: 0000:01:00.0, compute capability: 7.5\n"
     ]
    }
   ],
   "source": [
    "buddi_fork_path = config_dict['software_path']['buddi_HGSC']\n",
    "buddi_fork_path = pathlib.Path(buddi_fork_path)\n",
    "assert buddi_fork_path.exists(), f\"buddi fork not found at {buddi_fork_path}\"\n",
    "\n",
    "sys.path.insert(0, str(buddi_fork_path))\n",
    "from buddi.models.buddi4 import build_buddi4\n",
    "from buddi.models.components.layers import ReparameterizationLayer"
   ]
  },
  {
   "cell_type": "markdown",
   "id": "34e64a3f",
   "metadata": {},
   "source": [
    "### Validation Output plot path"
   ]
  },
  {
   "cell_type": "code",
   "execution_count": 5,
   "id": "5d3792dc",
   "metadata": {},
   "outputs": [],
   "source": [
    "VALIDATION_OUTPUT = pathlib.Path('.').absolute() / 'validation_output'\n",
    "VALIDATION_OUTPUT.mkdir(exist_ok=True)"
   ]
  },
  {
   "cell_type": "markdown",
   "id": "b7cf3fa8",
   "metadata": {},
   "source": [
    "### Train model weight and data"
   ]
  },
  {
   "cell_type": "code",
   "execution_count": 6,
   "id": "1ecb1542",
   "metadata": {},
   "outputs": [],
   "source": [
    "TRAINED_MODELS_PATH = REPO_ROOT / 'trained_models'\n",
    "TRAIN_DATA_FILE = REPO_ROOT / 'processed_data' / 'train_data.pkl'"
   ]
  },
  {
   "cell_type": "markdown",
   "id": "02d012ec",
   "metadata": {},
   "source": [
    "### Data"
   ]
  },
  {
   "cell_type": "code",
   "execution_count": 7,
   "id": "7edf40cf",
   "metadata": {},
   "outputs": [],
   "source": [
    "train_data = joblib.load(TRAIN_DATA_FILE)\n",
    "\n",
    "n_x = len(train_data.gene_names)\n",
    "n_y = len(train_data.cell_type_names)\n",
    "n_labels = train_data.encode_meta[SAMPLE_ID_COL].shape[1]\n",
    "n_stims = train_data.encode_meta[STIM_COL].shape[1]\n",
    "n_samp_types = train_data.encode_meta[TECH_COL].shape[1]"
   ]
  },
  {
   "cell_type": "markdown",
   "id": "cb574285",
   "metadata": {},
   "source": [
    "## Validate"
   ]
  },
  {
   "cell_type": "code",
   "execution_count": 8,
   "id": "0b8c35d2",
   "metadata": {},
   "outputs": [],
   "source": [
    "from validation.resampling import ResamplingDecoder, compute_reconstruction_corr\n",
    "from validation.plot_validation import plot_resampled_latent_space, plot_correlation_boxplot"
   ]
  },
  {
   "cell_type": "code",
   "execution_count": 9,
   "id": "8ceb17e9",
   "metadata": {},
   "outputs": [],
   "source": [
    "supervised_buddi, unsupervised_buddi, supervised_decoder, unsupervised_decoder = build_buddi4(\n",
    "        n_x=n_x,\n",
    "        n_y=n_y,\n",
    "        n_labels=n_labels,\n",
    "        n_stims=n_stims,\n",
    "        n_samp_types=n_samp_types,\n",
    "        reconstr_loss_fn = MeanSquaredError, # the loss function does not matter unless training further\n",
    "        classifier_loss_fn = CategoricalCrossentropy, # the loss function does not matter unless training further\n",
    "        return_decoder = True\n",
    "    )\n",
    "\n",
    "n_resamples = 10\n",
    "resampling_decoder = ResamplingDecoder(\n",
    "    supervised_decoder,\n",
    "    n_y=n_y,\n",
    "    z_shape={\n",
    "        'label': 64,\n",
    "        'stim': 64,\n",
    "        'samp_type': 64,\n",
    "        'slack': 64,\n",
    "    },\n",
    "    _reparam_layer=ReparameterizationLayer(),\n",
    ")"
   ]
  },
  {
   "cell_type": "code",
   "execution_count": null,
   "id": "d0bffb0b",
   "metadata": {},
   "outputs": [
    {
     "name": "stderr",
     "output_type": "stream",
     "text": [
      "/home/weishanli/anaconda3/envs/buddi_conda/lib/python3.9/site-packages/keras/src/saving/saving_lib.py:757: UserWarning: Skipping variable loading for optimizer 'adam', because it has 2 variables whereas the saved optimizer has 82 variables. \n",
      "  saveable.load_own_variables(weights_store.get(inner_path))\n",
      "/home/weishanli/anaconda3/envs/buddi_conda/lib/python3.9/site-packages/keras/src/models/functional.py:238: UserWarning: The structure of `inputs` doesn't match the expected structure.\n",
      "Expected: ['X']\n",
      "Received: inputs=Tensor(shape=(10500, 7000))\n",
      "  warnings.warn(msg)\n",
      "/home/weishanli/anaconda3/envs/buddi_conda/lib/python3.9/site-packages/sklearn/utils/deprecation.py:151: FutureWarning: 'force_all_finite' was renamed to 'ensure_all_finite' in 1.6 and will be removed in 1.8.\n",
      "  warnings.warn(\n",
      "/home/weishanli/anaconda3/envs/buddi_conda/lib/python3.9/site-packages/umap/umap_.py:1952: UserWarning: n_jobs value 1 overridden to 1 by setting random_state. Use no seed for parallelism.\n",
      "  warn(\n",
      "/home/weishanli/anaconda3/envs/buddi_conda/lib/python3.9/site-packages/keras/src/saving/saving_lib.py:757: UserWarning: Skipping variable loading for optimizer 'adam', because it has 2 variables whereas the saved optimizer has 82 variables. \n",
      "  saveable.load_own_variables(weights_store.get(inner_path))\n",
      "/home/weishanli/anaconda3/envs/buddi_conda/lib/python3.9/site-packages/keras/src/models/functional.py:238: UserWarning: The structure of `inputs` doesn't match the expected structure.\n",
      "Expected: ['X']\n",
      "Received: inputs=Tensor(shape=(10500, 7000))\n",
      "  warnings.warn(msg)\n",
      "/home/weishanli/anaconda3/envs/buddi_conda/lib/python3.9/site-packages/sklearn/utils/deprecation.py:151: FutureWarning: 'force_all_finite' was renamed to 'ensure_all_finite' in 1.6 and will be removed in 1.8.\n",
      "  warnings.warn(\n",
      "/home/weishanli/anaconda3/envs/buddi_conda/lib/python3.9/site-packages/umap/umap_.py:1952: UserWarning: n_jobs value 1 overridden to 1 by setting random_state. Use no seed for parallelism.\n",
      "  warn(\n",
      "/home/weishanli/anaconda3/envs/buddi_conda/lib/python3.9/site-packages/keras/src/saving/saving_lib.py:757: UserWarning: Skipping variable loading for optimizer 'adam', because it has 2 variables whereas the saved optimizer has 82 variables. \n",
      "  saveable.load_own_variables(weights_store.get(inner_path))\n",
      "/home/weishanli/anaconda3/envs/buddi_conda/lib/python3.9/site-packages/keras/src/models/functional.py:238: UserWarning: The structure of `inputs` doesn't match the expected structure.\n",
      "Expected: ['X']\n",
      "Received: inputs=Tensor(shape=(10500, 7000))\n",
      "  warnings.warn(msg)\n",
      "/home/weishanli/anaconda3/envs/buddi_conda/lib/python3.9/site-packages/sklearn/utils/deprecation.py:151: FutureWarning: 'force_all_finite' was renamed to 'ensure_all_finite' in 1.6 and will be removed in 1.8.\n",
      "  warnings.warn(\n",
      "/home/weishanli/anaconda3/envs/buddi_conda/lib/python3.9/site-packages/umap/umap_.py:1952: UserWarning: n_jobs value 1 overridden to 1 by setting random_state. Use no seed for parallelism.\n",
      "  warn(\n",
      "/home/weishanli/anaconda3/envs/buddi_conda/lib/python3.9/site-packages/keras/src/saving/saving_lib.py:757: UserWarning: Skipping variable loading for optimizer 'adam', because it has 2 variables whereas the saved optimizer has 82 variables. \n",
      "  saveable.load_own_variables(weights_store.get(inner_path))\n",
      "/home/weishanli/anaconda3/envs/buddi_conda/lib/python3.9/site-packages/keras/src/models/functional.py:238: UserWarning: The structure of `inputs` doesn't match the expected structure.\n",
      "Expected: ['X']\n",
      "Received: inputs=Tensor(shape=(10500, 7000))\n",
      "  warnings.warn(msg)\n",
      "/home/weishanli/anaconda3/envs/buddi_conda/lib/python3.9/site-packages/sklearn/utils/deprecation.py:151: FutureWarning: 'force_all_finite' was renamed to 'ensure_all_finite' in 1.6 and will be removed in 1.8.\n",
      "  warnings.warn(\n",
      "/home/weishanli/anaconda3/envs/buddi_conda/lib/python3.9/site-packages/umap/umap_.py:1952: UserWarning: n_jobs value 1 overridden to 1 by setting random_state. Use no seed for parallelism.\n",
      "  warn(\n"
     ]
    },
    {
     "ename": "",
     "evalue": "",
     "output_type": "error",
     "traceback": [
      "\u001b[1;31mThe Kernel crashed while executing code in the current cell or a previous cell. \n",
      "\u001b[1;31mPlease review the code in the cell(s) to identify a possible cause of the failure. \n",
      "\u001b[1;31mClick <a href='https://aka.ms/vscodeJupyterKernelCrash'>here</a> for more info. \n",
      "\u001b[1;31mView Jupyter <a href='command:jupyter.viewOutput'>log</a> for further details."
     ]
    }
   ],
   "source": [
    "model_type = 'buddi4'\n",
    "model_z_betas = ['1.0', '10.0', '50.0', '100.0']\n",
    "\n",
    "for model_z_beta in model_z_betas:\n",
    "\n",
    "    model_string = f'{model_type}_beta_{model_z_beta}'\n",
    "    model_validation_plot_dir = VALIDATION_OUTPUT / model_string\n",
    "    model_validation_plot_dir.mkdir(exist_ok=True)\n",
    "\n",
    "    supervised_buddi.load_weights(\n",
    "        TRAINED_MODELS_PATH / f'{model_type}_beta_{model_z_beta}_supervised_model.keras'\n",
    "    )\n",
    "    unsupervised_buddi.load_weights(\n",
    "        TRAINED_MODELS_PATH / f'{model_type}_beta_{model_z_beta}_unsupervised_model.keras'\n",
    "    )\n",
    "\n",
    "    # Forward Pass To Obtain Latent Space of the Pseudobulks\n",
    "    x_kp = train_data.X_kp\n",
    "    y_kp = train_data.y_kp\n",
    "    meta_kp = train_data.meta_kp\n",
    "\n",
    "    pred = unsupervised_buddi((x_kp))\n",
    "    x_reconst, z_label, z_stim, z_samp_type, z_slack, _, _, _, y_hat = pred\n",
    "\n",
    "    n_resamples = 10\n",
    "\n",
    "    xs_resampled = []\n",
    "    for _ in range(n_resamples):\n",
    "        with tf.device('/CPU:0'):\n",
    "            xs_resampled.append(\n",
    "                resampling_decoder(\n",
    "                    (y_hat,\n",
    "                    z_label,\n",
    "                    z_stim,\n",
    "                    z_samp_type,\n",
    "                    z_slack)\n",
    "                ).numpy()\n",
    "            )\n",
    "\n",
    "    x_resampled = np.concatenate(xs_resampled, axis=0)\n",
    "    meta_resampled = pd.concat([meta_kp] * n_resamples, axis=0)\n",
    "    meta_resampled = meta_resampled.reset_index(drop=True)\n",
    "    meta_resampled['expression'] = 'resampled'\n",
    "\n",
    "    x_concat = np.concatenate(\n",
    "        [x_kp, x_resampled],\n",
    "        axis=0\n",
    "    )\n",
    "    _meta = meta_kp.copy()\n",
    "    _meta['expression'] = 'truth'\n",
    "    meta_concat = pd.concat(\n",
    "        [_meta, meta_resampled],\n",
    "        axis=0\n",
    "    )\n",
    "    meta_concat = meta_concat.reset_index(drop=True)\n",
    "\n",
    "    plot_resampled_latent_space(\n",
    "        x_concat,\n",
    "        meta_concat,\n",
    "        color_by=[\n",
    "            SAMPLE_ID_COL,\n",
    "            'cell_prop_type',\n",
    "            'expression'\n",
    "        ],\n",
    "        use_umap=True,\n",
    "        panel_width=5,\n",
    "        show_plot=False,\n",
    "        save_path=model_validation_plot_dir / f'{model_string}_resample_expression.png'\n",
    "    )\n",
    "\n",
    "    pearson_r = compute_reconstruction_corr(\n",
    "        x_resampled,\n",
    "        x_kp,\n",
    "        n_resamples=n_resamples,\n",
    "        method='pearson',\n",
    "        n_jobs=-1\n",
    "    )\n",
    "    plot_correlation_boxplot(\n",
    "        pearson_r,\n",
    "        coorrelation_method='pearson',\n",
    "        show_plot=False,\n",
    "        save_path=model_validation_plot_dir / f'{model_string}_resample_pearson_correlation.png'\n",
    "    )"
   ]
  }
 ],
 "metadata": {
  "kernelspec": {
   "display_name": "buddi_conda",
   "language": "python",
   "name": "python3"
  },
  "language_info": {
   "codemirror_mode": {
    "name": "ipython",
    "version": 3
   },
   "file_extension": ".py",
   "mimetype": "text/x-python",
   "name": "python",
   "nbconvert_exporter": "python",
   "pygments_lexer": "ipython3",
   "version": "3.9.21"
  }
 },
 "nbformat": 4,
 "nbformat_minor": 5
}
